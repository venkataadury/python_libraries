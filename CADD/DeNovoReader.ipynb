{
 "cells": [
  {
   "cell_type": "code",
   "execution_count": 1,
   "id": "c84b95ad",
   "metadata": {},
   "outputs": [],
   "source": [
    "GLOBAL_LOADED_DENOVOREAD=True"
   ]
  },
  {
   "cell_type": "code",
   "execution_count": 36,
   "id": "b51d5ff8",
   "metadata": {},
   "outputs": [],
   "source": [
    "import numpy as np\n",
    "import sys\n",
    "from rdkit import Chem"
   ]
  },
  {
   "cell_type": "code",
   "execution_count": 28,
   "id": "f3e1ff03",
   "metadata": {},
   "outputs": [],
   "source": [
    "class DeNovoAtom:\n",
    "    def __init__(self,name,valence,mass,charge,sigma,eps,vdw=None,hybrid=None):\n",
    "        sigma = float(sigma)\n",
    "        if hybrid is None: hybrid = valence -1\n",
    "        if vdw is None: vdw = sigma/2.0\n",
    "        valence = int(valence)\n",
    "        self.atomtype=str(name)\n",
    "        self.valence = valence\n",
    "        self.max_valence = valence\n",
    "        self.sigma=float(sigma)\n",
    "        self.epsilon = float(eps)\n",
    "        self.vdw = float(vdw)\n",
    "        self.hybridization = int(hybrid)\n",
    "        self.charge = float(charge)\n",
    "        self.mass = float(mass)\n",
    "    \n",
    "    def __str__(self): return \"Atom Type: \"+self.atomtype\n",
    "    def __repr__(self): return str(self)\n",
    "            \n",
    "            \n",
    "class DeNovoForceFieldLoader:\n",
    "    def __init__(self,ff_file):\n",
    "        self.infile=ff_file\n",
    "        self.loadForceField()\n",
    "    \n",
    "    def loadForceField(self):\n",
    "        tempfile = open(self.infile,\"r\")\n",
    "        self.atom_list=[]\n",
    "        for l in tempfile:\n",
    "            l=l.strip()\n",
    "            if not l or l[0]==\"#\": continue\n",
    "            l = l.split()\n",
    "            self.atom_list.append(DeNovoAtom(l[0],l[1],l[2],l[3],l[4],l[5],l[6],l[7]))\n",
    "        tempfile.close()\n",
    "    \n",
    "    def __len__(self): return len(self.atom_list)\n",
    "    def __getitem__(self,idx): return self.atom_list[idx]\n",
    "    def __contains__(self,atype):\n",
    "        if type(atype)!=str: atype=atype.atomtype\n",
    "        for aobj in self.atom_list:\n",
    "            if aobj.atomtype==atype: return True\n",
    "        return False\n",
    "\n",
    "class DeNovoMolecule:\n",
    "    def __init__(self,pdbfile,ff,bond_cutoff=0.27):\n",
    "        self.molfile=pdbfile\n",
    "        self.ff=ff\n",
    "        self.loadMolecule(cutoff=bond_cutoff)\n",
    "    \n",
    "    def loadMolecule(self,cutoff=0.27):\n",
    "        tempfile = open(self.infile,\"r\")\n",
    "        tempfile.close()"
   ]
  },
  {
   "cell_type": "code",
   "execution_count": 29,
   "id": "cd8150c1",
   "metadata": {},
   "outputs": [],
   "source": [
    "myff=DeNovoForceFieldLoader(\"/home/venkata/dnv/data/final_ff_parameters.ffin\")"
   ]
  },
  {
   "cell_type": "code",
   "execution_count": 35,
   "id": "b48ec5e9",
   "metadata": {},
   "outputs": [
    {
     "data": {
      "text/plain": [
       "True"
      ]
     },
     "execution_count": 35,
     "metadata": {},
     "output_type": "execute_result"
    }
   ],
   "source": [
    "myff[-1] in myff"
   ]
  },
  {
   "cell_type": "code",
   "execution_count": null,
   "id": "c68c9f02",
   "metadata": {},
   "outputs": [],
   "source": []
  }
 ],
 "metadata": {
  "kernelspec": {
   "display_name": "Python 3 (ipykernel)",
   "language": "python",
   "name": "python3"
  },
  "language_info": {
   "codemirror_mode": {
    "name": "ipython",
    "version": 3
   },
   "file_extension": ".py",
   "mimetype": "text/x-python",
   "name": "python",
   "nbconvert_exporter": "python",
   "pygments_lexer": "ipython3",
   "version": "3.10.4"
  }
 },
 "nbformat": 4,
 "nbformat_minor": 5
}
