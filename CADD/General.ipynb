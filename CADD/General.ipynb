{
 "cells": [
  {
   "cell_type": "code",
   "execution_count": null,
   "id": "9c90a485",
   "metadata": {},
   "outputs": [],
   "source": [
    "import numpy as np\n",
    "from rdkit import Chem"
   ]
  },
  {
   "cell_type": "code",
   "execution_count": null,
   "id": "f7f514ec",
   "metadata": {},
   "outputs": [],
   "source": [
    "class SequentialSMILESLoader:\n",
    "    def __init__(self,smifilename,skip_failures=True,attach_names=False):\n",
    "        self.file=open(smifilename,\"r\")\n",
    "        self.counter=0\n",
    "        self.autoskip=skip_failures\n",
    "        self.name=attach_names\n",
    "        self.ended=False\n",
    "    \n",
    "    def getNext(self,num=1,as_smiles=False):\n",
    "        ret=[]\n",
    "        if self.name:\n",
    "            names=[]\n",
    "        K=self.counter\n",
    "        skip=0\n",
    "        \n",
    "        if self.ended: return None\n",
    "        \n",
    "        for ln in self.file:\n",
    "            ln=ln.strip().split()\n",
    "            \n",
    "            mol=ln[0]\n",
    "            if self.name: myname=ln[1].strip()\n",
    "            else: myname = None\n",
    "            if not as_smiles:\n",
    "                mol=Chem.MolFromSmiles(mol)\n",
    "                if self.autoskip and (mol is None):\n",
    "                    self.counter+=1\n",
    "                    skip+=1\n",
    "                    continue\n",
    "            ret.append(mol)\n",
    "            if self.name: names.append(myname)\n",
    "            \n",
    "            self.counter+=1\n",
    "            if self.counter-K-skip==num: break\n",
    "        else: self.ended=True\n",
    "        \n",
    "        if self.name: return ret,names\n",
    "        else: return ret\n",
    "    \n",
    "    def drain(self,as_smiles=False): return self.getNext(-1,as_smiles)\n",
    "    def __del__(self): self.file.close()\n",
    "    \n",
    "    def __help__(self): print(\"This is help\")"
   ]
  },
  {
   "cell_type": "code",
   "execution_count": null,
   "id": "627854a0",
   "metadata": {},
   "outputs": [],
   "source": [
    "print(\"Loaded Library 'General (RDKit)'\")"
   ]
  }
 ],
 "metadata": {
  "kernelspec": {
   "display_name": "Python 3 (ipykernel)",
   "language": "python",
   "name": "python3"
  },
  "language_info": {
   "codemirror_mode": {
    "name": "ipython",
    "version": 3
   },
   "file_extension": ".py",
   "mimetype": "text/x-python",
   "name": "python",
   "nbconvert_exporter": "python",
   "pygments_lexer": "ipython3",
   "version": "3.7.10"
  }
 },
 "nbformat": 4,
 "nbformat_minor": 5
}
