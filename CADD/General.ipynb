{
 "cells": [
  {
   "cell_type": "code",
   "execution_count": null,
   "id": "9c90a485",
   "metadata": {},
   "outputs": [],
   "source": [
    "import numpy as np\n",
    "from rdkit import Chem"
   ]
  },
  {
   "cell_type": "code",
   "execution_count": null,
   "id": "f7f514ec",
   "metadata": {},
   "outputs": [],
   "source": [
    "class SequentialSMILESLoader:\n",
    "    def __init__(self,smifilename,skip_failures=True,attach_names=False,count_max=True):\n",
    "        self.file=open(smifilename,\"r\")\n",
    "        self.counter=0\n",
    "        self.autoskip=skip_failures\n",
    "        self.name=attach_names\n",
    "        self.ended=False\n",
    "        if count_max:\n",
    "            self.linecount=len(self.file.readlines())\n",
    "            self.file=open(smifilename,\"r\")\n",
    "        else: self.linecount= None\n",
    "    \n",
    "    def getNext(self,num=1,as_smiles=False):\n",
    "        ret=[]\n",
    "        if self.name:\n",
    "            names=[]\n",
    "        K=self.counter\n",
    "        skip=0\n",
    "        empty=0\n",
    "        \n",
    "        if self.ended: return None\n",
    "        \n",
    "        for ln in self.file:\n",
    "            ln=ln.strip().split()\n",
    "            if not len(ln):\n",
    "                self.counter+=1\n",
    "                empty+=1\n",
    "                continue\n",
    "            \n",
    "            mol=ln[0]\n",
    "            if self.name: myname=ln[1].strip()\n",
    "            else: myname = None\n",
    "            if not as_smiles:\n",
    "                mol=Chem.MolFromSmiles(mol)\n",
    "                if self.autoskip and (mol is None):\n",
    "                    self.counter+=1\n",
    "                    skip+=1\n",
    "                    continue\n",
    "            ret.append(mol)\n",
    "            if self.name: names.append(myname)\n",
    "            \n",
    "            self.counter+=1\n",
    "            if self.counter-K-skip-empty==num: break\n",
    "        else: self.ended=True\n",
    "        \n",
    "        if self.name: return ret,names\n",
    "        else: return ret\n",
    "    \n",
    "    def drain(self,as_smiles=False): return self.getNext(-1,as_smiles)\n",
    "    def __del__(self): self.file.close()\n",
    "    \n",
    "    def __help__(self): print(\"This is help\")"
   ]
  },
  {
   "cell_type": "code",
   "execution_count": null,
   "id": "829e9372",
   "metadata": {},
   "outputs": [],
   "source": [
    "class RDKitMoleculeWrapper:\n",
    "    def __init__(self,mol):\n",
    "        self.mol = mol\n",
    "        if type(self.mol)!=Chem.rdchem.Mol: self.mol=Chem.MolFromSmiles(self.mol)\n",
    "    \n",
    "    def __call__(self): return self.mol\n",
    "    def get(self): return self.mol\n",
    "    \n",
    "    def getSize(self,includeHs=False):\n",
    "        if includeHs: tempmol=Chem.AddHs(self.mol)\n",
    "        else: tempmol=self.mol\n",
    "        return (tempmol.GetNumHeavyAtoms() if (not includeHs) else len(tempmol.GetAtoms()))"
   ]
  },
  {
   "cell_type": "code",
   "execution_count": null,
   "id": "627854a0",
   "metadata": {},
   "outputs": [],
   "source": [
    "print(\"Loaded Library 'General (RDKit)'\")"
   ]
  }
 ],
 "metadata": {
  "kernelspec": {
   "display_name": "Python 3 (ipykernel)",
   "language": "python",
   "name": "python3"
  },
  "language_info": {
   "codemirror_mode": {
    "name": "ipython",
    "version": 3
   },
   "file_extension": ".py",
   "mimetype": "text/x-python",
   "name": "python",
   "nbconvert_exporter": "python",
   "pygments_lexer": "ipython3",
   "version": "3.10.4"
  }
 },
 "nbformat": 4,
 "nbformat_minor": 5
}
