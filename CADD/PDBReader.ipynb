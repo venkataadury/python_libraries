{
 "cells": [
  {
   "cell_type": "code",
   "execution_count": null,
   "id": "98964bdd",
   "metadata": {},
   "outputs": [],
   "source": [
    "GLOBAL_LOADED_PDBREADER=True"
   ]
  },
  {
   "cell_type": "code",
   "execution_count": 2,
   "id": "565e4e3d",
   "metadata": {},
   "outputs": [
    {
     "name": "stdout",
     "output_type": "stream",
     "text": [
      "Loaded Library 'General (RDKit)'\n"
     ]
    }
   ],
   "source": [
    "import numpy as np\n",
    "from rdkit import Chem\n",
    "import matplotlib.pyplot as plt\n",
    "%run /home/venkata/python/python_libraries/CADD/General.ipynb"
   ]
  },
  {
   "cell_type": "code",
   "execution_count": 3,
   "id": "2322ad34",
   "metadata": {},
   "outputs": [],
   "source": [
    "atomSeqParser=lambda at,mol,empty=None: at.GetPDBResidueInfo().GetName().strip()\n",
    "class PDBAtomParser:\n",
    "    def __init__(self,pdbfile,parsefn=atomSeqParser,preparse=None,removeHs=False):\n",
    "        self.pdbfile=pdbfile\n",
    "        self.atomfn=parsefn\n",
    "        self.preparse=preparse\n",
    "        self.removeHs=removeHs\n",
    "    \n",
    "    def parse(self,**kwargs):\n",
    "        mol=Chem.MolFromPDBFile(self.pdbfile,removeHs=self.removeHs,**kwargs)\n",
    "        if self.preparse is not None: self.preparse(mol,self)\n",
    "        ret=[]\n",
    "        for at in mol.GetAtoms():\n",
    "            ret.append(self.atomfn(at,mol,self))\n",
    "        return np.array(ret)"
   ]
  },
  {
   "cell_type": "code",
   "execution_count": 4,
   "id": "35362826",
   "metadata": {},
   "outputs": [],
   "source": [
    "def countAtomTypes(filename,removeHs=False,**kwargs):\n",
    "    myparse=PDBAtomParser(filename,removeHs=removeHs)\n",
    "    atomseq=myparse.parse(**kwargs)\n",
    "    return np.unique(atomseq,return_counts=True)"
   ]
  },
  {
   "cell_type": "code",
   "execution_count": 61,
   "id": "dd45e6ec",
   "metadata": {},
   "outputs": [
    {
     "data": {
      "text/plain": [
       "(array(['C', 'CA', 'CAS', 'CE1A', 'CE2B', 'CN', 'CT', 'CT3', 'FA', 'HA',\n",
       "        'HB', 'HC', 'HE1', 'HE2', 'NC', 'NH1', 'NX', 'O'], dtype='<U4'),\n",
       " array([1, 2, 2, 1, 1, 2, 2, 1, 2, 1, 3, 2, 1, 2, 2, 1, 2, 1]))"
      ]
     },
     "execution_count": 61,
     "metadata": {},
     "output_type": "execute_result"
    }
   ],
   "source": [
    "print(\"PDB Tools Loaded\")"
   ]
  }
 ],
 "metadata": {
  "kernelspec": {
   "display_name": "Python 3 (ipykernel)",
   "language": "python",
   "name": "python3"
  },
  "language_info": {
   "codemirror_mode": {
    "name": "ipython",
    "version": 3
   },
   "file_extension": ".py",
   "mimetype": "text/x-python",
   "name": "python",
   "nbconvert_exporter": "python",
   "pygments_lexer": "ipython3",
   "version": "3.10.4"
  }
 },
 "nbformat": 4,
 "nbformat_minor": 5
}
