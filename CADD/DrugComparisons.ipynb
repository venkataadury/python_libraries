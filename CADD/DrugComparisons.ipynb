{
 "cells": [
  {
   "cell_type": "code",
   "execution_count": 1,
   "id": "be2eae97",
   "metadata": {},
   "outputs": [
    {
     "name": "stdout",
     "output_type": "stream",
     "text": [
      "Loaded Math library\n"
     ]
    }
   ],
   "source": [
    "import numpy as np\n",
    "import rdkit\n",
    "from rdkit import Chem\n",
    "from rdkit.Chem import AllChem\n",
    "from rdkit.Chem.Pharm3D import Pharmacophore, EmbedLib\n",
    "from rdkit.Chem import ChemicalFeatures\n",
    "from rdkit.Chem.rdMolAlign import AlignMol\n",
    "from rdkit.Chem import rdFMCS\n",
    "from rdkit.Chem import fmcs\n",
    "\n",
    "#Drawing stuff\n",
    "from matplotlib.colors import ColorConverter\n",
    "from rdkit.Chem.Draw import rdMolDraw2D\n",
    "from PIL import Image\n",
    "import io\n",
    "from collections import defaultdict\n",
    "\n",
    "%run /home/venkata/python/python_libraries/extras/Math.ipynb"
   ]
  },
  {
   "cell_type": "code",
   "execution_count": 4,
   "id": "a69c7f72",
   "metadata": {},
   "outputs": [],
   "source": [
    "COLORSEQ=[ColorConverter().to_rgb(col) for col in (\"red\",\"blue\",\"cyan\",\"green\",\"grey\",\"magenta\",\"orange\")]\n",
    "TRANSP_VALUE=0.5\n",
    "COLORSEQ_TRANSP=[(v[0],v[1],v[2],TRANSP_VALUE) for v in COLORSEQ]\n",
    "def reassignTransparencies(val=0.5):\n",
    "    global COLORSEQ_TRANSP,TRANSP_VALUE\n",
    "    COLORSEQ_TRANSP=[(v[0],v[1],v[2],val) for v in COLORSEQ]\n",
    "    TRANSP_VALUE=val"
   ]
  },
  {
   "cell_type": "code",
   "execution_count": 2,
   "id": "216cada8",
   "metadata": {},
   "outputs": [],
   "source": [
    "def findMCS(mols,mol2=None,ringMatchesRingOnly=True):\n",
    "    if mol2 is not None:\n",
    "        mols=[mols,mol2]\n",
    "    return Chem.rdFMCS.FindMCS(mols,matchValences=False,timeout=10800,bondCompare=rdFMCS.BondCompare.CompareOrderExact,ringMatchesRingOnly=ringMatchesRingOnly)"
   ]
  },
  {
   "cell_type": "code",
   "execution_count": 3,
   "id": "b3812d3d",
   "metadata": {},
   "outputs": [],
   "source": [
    "DEFAULT_FEATURES=AllChem.BuildFeatureFactory(rdkit.__path__[0]+'/Data/BaseFeatures.fdef')\n",
    "with open(rdkit.__path__[0]+'/Data/BaseFeatures.fdef') as f:\n",
    "    featDef = f.read()\n",
    "CHEMICAL_FEATURES=ChemicalFeatures.BuildFeatureFactoryFromString(featDef)\n",
    "featDef=None"
   ]
  },
  {
   "cell_type": "code",
   "execution_count": 4,
   "id": "baadd504",
   "metadata": {},
   "outputs": [],
   "source": [
    "def alignMolsIn3D(mol1,mols):\n",
    "    if type(mols)==type(mol1): mols=[mols]\n",
    "    rmsds=[]\n",
    "    for mol2 in mols:\n",
    "        substructure = findMCS(mol1,mol2)\n",
    "        substructure = Chem.MolFromSmarts(substructure.smartsString)\n",
    "\n",
    "        AllChem.EmbedMolecule(mol1)\n",
    "        AllChem.EmbedMolecule(mol2)\n",
    "\n",
    "        rmsds.append(AllChem.AlignMol(mol2, mol1, atomMap=list(zip(mol2.GetSubstructMatch(substructure), mol1.GetSubstructMatch(substructure))),maxIters=500))\n",
    "    return rmsds\n",
    "\n",
    "def identifyPharmacophores(mol): return CHEMICAL_FEATURES.GetFeaturesForMol(mol)"
   ]
  },
  {
   "cell_type": "code",
   "execution_count": 5,
   "id": "09d52856",
   "metadata": {},
   "outputs": [],
   "source": [
    "def sortFeaturesByFamily(feats):\n",
    "    ret=dict()\n",
    "    for f in feats:\n",
    "        fn=f.GetFamily()\n",
    "        if fn in ret: ret[fn].append(f)\n",
    "        else: ret[fn]=[f]\n",
    "    return ret\n",
    "def findCommonPharmacophores(mol1,mol2,nearCutoff=1.0): #Nearness cutoff in 3D space (Angstroms)\n",
    "    alignMolsIn3D(mol1,[mol2])\n",
    "    featLists=[identifyPharmacophores(m) for m in [mol1,mol2]]\n",
    "    featDicts=[sortFeaturesByFamily(fl) for fl in featLists]\n",
    "    featdict1=featDicts[0]\n",
    "    featdict2=featDicts[1]\n",
    "    \n",
    "    allowed_matches=[]\n",
    "    for featfam in featdict1:\n",
    "        if featfam not in featdict2: continue\n",
    "        for f1 in featdict1[featfam]:\n",
    "            for f2 in featdict2[featfam]:\n",
    "                dist = (f1.GetPos() - f2.GetPos()).Length()\n",
    "                if dist<nearCutoff:\n",
    "                    allowed_matches.append((f1,f2))\n",
    "    return allowed_matches,featLists[0],featLists[1]"
   ]
  },
  {
   "cell_type": "code",
   "execution_count": 6,
   "id": "af68dbb6",
   "metadata": {},
   "outputs": [],
   "source": [
    "def uniquelyMatchPharmacophores(allowed_matches):\n",
    "    ids=[(set(f1.GetAtomIds()),set(f2.GetAtomIds())) for (f1,f2) in allowed_matches]\n",
    "    matched_num=0\n",
    "    \n",
    "    clashes1=[]\n",
    "    clashes2=[]\n",
    "    clean1=set([])\n",
    "    clean2=set([])\n",
    "    final_matchings=[]\n",
    "    failed_matchings=[]\n",
    "    for i,(s1,s2) in enumerate(ids):\n",
    "        clear1=True\n",
    "        clear2=True\n",
    "        for j,(sx1,sx2) in enumerate(ids):\n",
    "            if i==j: continue\n",
    "            if len(sx1.intersection(s1)):\n",
    "                clear1=False\n",
    "                clashes1.append((s1,sx1,s2,sx2))\n",
    "            if len(sx2.intersection(s2)):\n",
    "                clear2=False\n",
    "                clashes2.append((s1,sx1,s2,sx2))\n",
    "        if clear1: clean1=clean1.union(s1)\n",
    "        if clear2: clean2=clean2.union(s2)\n",
    "        if clear1 and clear2:\n",
    "            final_matchings.append((s1,s2))\n",
    "        else:\n",
    "            failed_matchings.append((s1,s2))\n",
    "    matching_subset=[]\n",
    "    score=0\n",
    "    for ss in enumerateNonintersectingSetCombinations(failed_matchings,intersectfn=lambda st1,st2: len(st1[0].intersection(st2[0]))+len(st1[1].intersection(st2[1]))!=0):\n",
    "        ms=len(setUnion([s[0] for s in ss]))\n",
    "        ms+=len(setUnion([s[1] for s in ss]))\n",
    "        if ms>score:\n",
    "            score=ms\n",
    "            matching_subset=ss\n",
    "    return final_matchings+matching_subset"
   ]
  },
  {
   "cell_type": "code",
   "execution_count": 6,
   "id": "52301caa",
   "metadata": {},
   "outputs": [],
   "source": [
    "def multipleHighlightDraw(mol,highlightKey,bondHighlight=dict()):\n",
    "    testhg =  defaultdict(list)\n",
    "    for idx in highlightKey:\n",
    "        testhg[idx].append(highlightKey[idx])\n",
    "    \n",
    "    bondhg = defaultdict(list)\n",
    "    for idx in bondHighlight:\n",
    "        bondhg[idx].append(bondHighlight[idx])\n",
    "\n",
    "    drawer = rdMolDraw2D.MolDraw2DCairo(350,300)\n",
    "    drawer.drawOptions().highlightBondWidthMultiplier=20\n",
    "    drawer.drawOptions().clearBackground = False\n",
    "    drawer.DrawMoleculeWithHighlights(mol,\"\",dict(testhg),dict(bondhg),dict(),{})\n",
    "    drawer.FinishDrawing()\n",
    "    bio = io.BytesIO(drawer.GetDrawingText())\n",
    "    return Image.open(bio)\n",
    "    \n",
    "    \n",
    "def highlightPairedMatchings(mol1,mol2,matchings,idx=0,transp=0.6): #Use idx=1 to switch to mol2\n",
    "    mol=mol1 if idx==0 else mol2\n",
    "    if idx>0: idx=1\n",
    "    tval=TRANSP_VALUE\n",
    "    reassignTransparencies(transp)\n",
    "    fragcols=dict()\n",
    "    fragbcols=dict()\n",
    "    colid=0\n",
    "    for p in matchings:\n",
    "        myset=p[idx]\n",
    "        for at in myset:\n",
    "            fragcols[at]=COLORSEQ_TRANSP[colid]\n",
    "            for at2 in myset:\n",
    "                if at<at2: continue\n",
    "                bt=mol.GetBondBetweenAtoms(at,at2)\n",
    "                if bt is not None: fragbcols[bt.GetIdx()]=COLORSEQ_TRANSP[colid]\n",
    "        colid+=1\n",
    "        if colid>=len(COLORSEQ_TRANSP): colid=0\n",
    "    ret=multipleHighlightDraw(mol,fragcols,fragbcols)\n",
    "    reassignTransparencies(tval)\n",
    "    return ret"
   ]
  }
 ],
 "metadata": {
  "kernelspec": {
   "display_name": "Python 3 (ipykernel)",
   "language": "python",
   "name": "python3"
  },
  "language_info": {
   "codemirror_mode": {
    "name": "ipython",
    "version": 3
   },
   "file_extension": ".py",
   "mimetype": "text/x-python",
   "name": "python",
   "nbconvert_exporter": "python",
   "pygments_lexer": "ipython3",
   "version": "3.7.10"
  }
 },
 "nbformat": 4,
 "nbformat_minor": 5
}
