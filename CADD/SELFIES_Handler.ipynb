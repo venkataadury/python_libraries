{
 "cells": [
  {
   "cell_type": "code",
   "execution_count": 1,
   "id": "2dfdf4d2",
   "metadata": {},
   "outputs": [],
   "source": [
    "import numpy as np\n",
    "import selfies as sf"
   ]
  },
  {
   "cell_type": "code",
   "execution_count": 2,
   "id": "1baa636f",
   "metadata": {
    "scrolled": false
   },
   "outputs": [],
   "source": [
    "chars=list(sf.get_semantic_robust_alphabet())\n",
    "chars=sorted(chars)\n",
    "chars=[\"[EOS]\"]+chars"
   ]
  },
  {
   "cell_type": "code",
   "execution_count": 3,
   "id": "0235a9dc",
   "metadata": {},
   "outputs": [
    {
     "data": {
      "text/plain": [
       "52"
      ]
     },
     "execution_count": 3,
     "metadata": {},
     "output_type": "execute_result"
    }
   ],
   "source": [
    "import bisect\n",
    "bisect.bisect(chars,'[EOS]')\n",
    "#chars[63]"
   ]
  },
  {
   "cell_type": "code",
   "execution_count": 4,
   "id": "7b7d32fb",
   "metadata": {},
   "outputs": [],
   "source": [
    "import bisect\n",
    "def find_idx(ch):\n",
    "    if ch==chars[0]: return 0\n",
    "    else: return bisect.bisect(chars,ch)-1\n",
    "def encode_selfies(lst,one_hot=True,force_len=-1,pad=0,skip_lengthy=False):\n",
    "    if type(lst)==str: lst=[lst]\n",
    "    ret=[]\n",
    "    for s in lst:\n",
    "        s=list(sf.split_selfies(s))\n",
    "        l=[]\n",
    "        for t in s:\n",
    "            l.append(find_idx(t))\n",
    "        if force_len==-1: ret.append(np.array(l))\n",
    "        else:\n",
    "            ret.append(np.ones(force_len)*pad)\n",
    "            x=np.array(l)\n",
    "            try:\n",
    "                ret[-1][:len(x)]=x\n",
    "            except:\n",
    "                if skip_lengthy: pass\n",
    "                else: raise ValueError(\"\".join(s),\"is too long!\")\n",
    "        if one_hot:\n",
    "            tret=[]\n",
    "            for idx in ret[-1]:\n",
    "                tret.append(np.zeros(len(chars)))\n",
    "                tret[-1][int(idx)]=1.\n",
    "            ret=ret[:-1]+[tret]\n",
    "    return ret\n",
    "def decode_selfies(lst,one_hot=True):\n",
    "    if one_hot:\n",
    "        lst=np.array(lst)\n",
    "        lst=np.argmax(lst,axis=-1)\n",
    "    ret=[]\n",
    "    for s in lst:\n",
    "        l=\"\"\n",
    "        for t in s:\n",
    "            l+=chars[t]\n",
    "        ret.append(l)\n",
    "    return ret\n",
    "def smiles_to_selfies(smilst,add_eos=False):\n",
    "    ret=[]\n",
    "    for smi in smilst:\n",
    "        try:\n",
    "            sfr = sf.encoder(smi)\n",
    "            if add_eos: sfr+=chars[0]\n",
    "            ret.append(sfr)\n",
    "        except:\n",
    "            ret.append(None)\n",
    "    return ret"
   ]
  },
  {
   "cell_type": "code",
   "execution_count": 5,
   "id": "4f7833fe",
   "metadata": {},
   "outputs": [
    {
     "data": {
      "text/plain": [
       "True"
      ]
     },
     "execution_count": 5,
     "metadata": {},
     "output_type": "execute_result"
    }
   ],
   "source": [
    "chk=\"[C][C][Branch1][EOS]\"\n",
    "decode_selfies(encode_selfies([chk]))[0]==chk # Should be True"
   ]
  },
  {
   "cell_type": "code",
   "execution_count": 6,
   "id": "85767080",
   "metadata": {},
   "outputs": [
    {
     "data": {
      "text/plain": [
       "['[C][=C][C][=C][C][=C][Ring1][=Branch1][EOS]',\n",
       " '[C][C][Branch1][C][C][C][EOS]']"
      ]
     },
     "execution_count": 6,
     "metadata": {},
     "output_type": "execute_result"
    }
   ],
   "source": [
    "smiles_to_selfies([\"c1ccccc1\",\"CC(C)C\"],add_eos=True)"
   ]
  }
 ],
 "metadata": {
  "kernelspec": {
   "display_name": "Python 3 (ipykernel)",
   "language": "python",
   "name": "python3"
  },
  "language_info": {
   "codemirror_mode": {
    "name": "ipython",
    "version": 3
   },
   "file_extension": ".py",
   "mimetype": "text/x-python",
   "name": "python",
   "nbconvert_exporter": "python",
   "pygments_lexer": "ipython3",
   "version": "3.7.10"
  }
 },
 "nbformat": 4,
 "nbformat_minor": 5
}
