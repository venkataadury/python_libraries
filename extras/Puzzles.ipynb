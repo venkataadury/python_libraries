{
 "cells": [
  {
   "cell_type": "code",
   "execution_count": 3,
   "id": "5cae3c44",
   "metadata": {},
   "outputs": [],
   "source": [
    "GLOBAL_LOADED_PUZZLES=True"
   ]
  },
  {
   "cell_type": "code",
   "execution_count": 4,
   "id": "6fdbb996",
   "metadata": {},
   "outputs": [],
   "source": [
    "import numpy as np\n",
    "import abc"
   ]
  },
  {
   "cell_type": "code",
   "execution_count": 55,
   "id": "db4c8dff",
   "metadata": {},
   "outputs": [],
   "source": [
    "class Sudoku:\n",
    "    def __init__(self,blocksize=3): #Board size = blocksize*blocksize x blocksize*blocksize\n",
    "        self.blocksize=blocksize\n",
    "        maxval=int(blocksize**2)\n",
    "        self.maxval=maxval\n",
    "        self.grid=np.zeros((maxval,maxval))\n",
    "        self.initGrid()\n",
    "    \n",
    "    def initGrid(self):\n",
    "        blocks=[]\n",
    "        for i in range(0,self.maxval,self.blocksize):\n",
    "            blocks.append([])\n",
    "            for j in range(0,self.maxval,self.blocksize):\n",
    "                ch=np.array(range(self.maxval))+1; np.random.shuffle(ch)\n",
    "                ch=ch.reshape((self.blocksize,self.blocksize))\n",
    "                \n",
    "                k=j//self.blocksize\n",
    "                hblks=[]\n",
    "                for myblock in blocks[-1]: hblks.append(myblock)\n",
    "                self.solveHorizontal(ch,hblks)\n",
    "                vblks=[]\n",
    "                for blkid in range(len(blocks)):\n",
    "                    if len(blocks[blkid])<=k: continue\n",
    "                    myblock=blocks[blkid][k]\n",
    "                    #print(\"My block\",myblock,\"with ID\",blkid)\n",
    "                    vblks.append(myblock)\n",
    "                ch=self.solveVertical(ch,vblks)\n",
    "                self.solveHorizontal(ch,hblks)\n",
    "                ch=self.solveVertical(ch,vblks)\n",
    "                self.solveHorizontal(ch,hblks)\n",
    "                \n",
    "                blocks[-1].append(ch)\n",
    "                self.grid[i:i+self.blocksize,j:j+self.blocksize]=ch\n",
    "        return blocks\n",
    "    \n",
    "    def solveHorizontal(self,focal,blocks):\n",
    "        if not len(blocks): return\n",
    "        swapped=True\n",
    "        while swapped:\n",
    "            swapped=False\n",
    "            for rowid in range(self.blocksize):\n",
    "                for colid in range(self.blocksize):\n",
    "                    noclash=list(range(self.blocksize)) #Rows where there is no clash\n",
    "                    for browid in range(self.blocksize):\n",
    "                        if browid not in noclash: continue\n",
    "                        for bcolid in range(self.blocksize):\n",
    "                            for blk in blocks:\n",
    "                                if blk[browid][bcolid]==focal[rowid][colid]:\n",
    "                                    noclash.remove(browid)\n",
    "                                    break\n",
    "                            if browid not in noclash: break\n",
    "                    #print(noclash,rowid,rowid not in noclash,\"for value\",focal[rowid][colid])\n",
    "                    #print(focal)\n",
    "                    #print(blocks)\n",
    "                    if rowid not in noclash:\n",
    "                        if not len(noclash): raise ValueError(\"Sorry! Cannot fix this puzzle\")\n",
    "                        excl=np.concatenate([nblk[rowid] for nblk in blocks])\n",
    "                        #print(excl,\"as exclusion with noclash=\",noclash)\n",
    "                        tv=excl[0] # if len(excl) else 0\n",
    "                        K=0\n",
    "                        while (tv in excl) and K<self.blocksize*2:\n",
    "                            nrid=np.random.choice(noclash)\n",
    "                            ncid=int(np.random.uniform(0,self.blocksize))\n",
    "                            tv=focal[nrid][ncid]\n",
    "                            K+=1\n",
    "                        focal[rowid][colid],focal[nrid][ncid]=focal[nrid][ncid],focal[rowid][colid]\n",
    "                        swapped=True\n",
    "    \n",
    "    def solveVertical(self,focal,blocks):\n",
    "        print(\"Solve vertical\")\n",
    "        focalX=focal.transpose()\n",
    "        nblocks=[blk.transpose() for blk in blocks]\n",
    "        self.solveHorizontal(focalX,nblocks)\n",
    "        focal=focalX.transpose()\n",
    "        return focal"
   ]
  },
  {
   "cell_type": "code",
   "execution_count": 58,
   "id": "5df488df",
   "metadata": {},
   "outputs": [
    {
     "name": "stdout",
     "output_type": "stream",
     "text": [
      "Solve vertical\n",
      "Solve vertical\n",
      "Solve vertical\n",
      "Solve vertical\n",
      "Solve vertical\n",
      "Solve vertical\n",
      "Solve vertical\n",
      "Solve vertical\n",
      "Solve vertical\n",
      "Solve vertical\n",
      "Solve vertical\n",
      "Solve vertical\n",
      "Solve vertical\n",
      "Solve vertical\n",
      "Solve vertical\n",
      "Solve vertical\n",
      "Solve vertical\n",
      "Solve vertical\n",
      "[[5. 6. 4. 2. 3. 9. 7. 1. 8.]\n",
      " [7. 9. 2. 8. 1. 4. 5. 6. 3.]\n",
      " [1. 8. 3. 5. 7. 6. 4. 9. 2.]\n",
      " [3. 4. 5. 9. 8. 1. 2. 7. 6.]\n",
      " [6. 7. 1. 3. 5. 2. 8. 4. 9.]\n",
      " [9. 2. 8. 4. 6. 7. 3. 5. 1.]\n",
      " [4. 3. 6. 1. 9. 5. 8. 2. 7.]\n",
      " [8. 5. 9. 7. 2. 3. 6. 1. 4.]\n",
      " [2. 1. 7. 6. 4. 8. 9. 3. 5.]]\n"
     ]
    },
    {
     "data": {
      "text/plain": [
       "(array([45., 45., 45., 45., 45., 45., 45., 45., 45.]),\n",
       " array([45., 45., 45., 45., 45., 45., 52., 38., 45.]))"
      ]
     },
     "execution_count": 58,
     "metadata": {},
     "output_type": "execute_result"
    }
   ],
   "source": [
    "sud=Sudoku()\n",
    "print(sud.grid)\n",
    "np.sum(sud.grid,axis=1),np.sum(sud.grid,axis=0)"
   ]
  }
 ],
 "metadata": {
  "kernelspec": {
   "display_name": "Python 3 (ipykernel)",
   "language": "python",
   "name": "python3"
  },
  "language_info": {
   "codemirror_mode": {
    "name": "ipython",
    "version": 3
   },
   "file_extension": ".py",
   "mimetype": "text/x-python",
   "name": "python",
   "nbconvert_exporter": "python",
   "pygments_lexer": "ipython3",
   "version": "3.7.10"
  }
 },
 "nbformat": 4,
 "nbformat_minor": 5
}
