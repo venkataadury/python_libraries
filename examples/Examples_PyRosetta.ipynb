{
 "cells": [
  {
   "cell_type": "code",
   "execution_count": 1,
   "id": "375d1db3-9398-4d48-b160-7f39dca175c6",
   "metadata": {
    "scrolled": true
   },
   "outputs": [
    {
     "name": "stdout",
     "output_type": "stream",
     "text": [
      "┌──────────────────────────────────────────────────────────────────────────────┐\n",
      "│                                 PyRosetta-4                                  │\n",
      "│              Created in JHU by Sergey Lyskov and PyRosetta Team              │\n",
      "│              (C) Copyright Rosetta Commons Member Institutions               │\n",
      "│                                                                              │\n",
      "│ NOTE: USE OF PyRosetta FOR COMMERCIAL PURPOSES REQUIRE PURCHASE OF A LICENSE │\n",
      "│              See LICENSE.md or email license@uw.edu for details              │\n",
      "└──────────────────────────────────────────────────────────────────────────────┘\n",
      "PyRosetta-4 2024 [Rosetta PyRosetta4.Release.python310.linux 2024.08+release.717d2e8232174371f0c672564f23a097062db88a 2024-02-21T10:16:44] retrieved from: http://www.pyrosetta.org\n"
     ]
    }
   ],
   "source": [
    "# Load an initialize a bunch of things (including pyrosetta)\n",
    "# It also automatically suppresses a lot of input. You can edit the init() call in General to change this behaviour (or comment it out and manually initialize here)\n",
    "%run ../PyRosetta/General.ipynb # May need to give absolute path if notebook is elsewhere\n"
   ]
  },
  {
   "cell_type": "markdown",
   "id": "5cc7a853-9b3b-48ed-8172-c7ec2f295c29",
   "metadata": {},
   "source": [
    "## Introducing LoadedPDB"
   ]
  },
  {
   "cell_type": "code",
   "execution_count": 2,
   "id": "57b739e9-447d-4cc2-9928-41e8296d421b",
   "metadata": {},
   "outputs": [
    {
     "data": {
      "text/plain": [
       "__main__.LoadedPDB"
      ]
     },
     "execution_count": 2,
     "metadata": {},
     "output_type": "execute_result"
    }
   ],
   "source": [
    "# LoadedPDB: A wrapper around pyrosetta.rosetta.core.pose.Pose\n",
    "pose=LoadedPDB(\"PDBs/7qr4_clean.pdb\")\n",
    "type(pose)"
   ]
  },
  {
   "cell_type": "code",
   "execution_count": 3,
   "id": "e435b305-a8db-4e46-ae3a-7c5efea3b94c",
   "metadata": {},
   "outputs": [
    {
     "name": "stdout",
     "output_type": "stream",
     "text": [
      "<class 'pyrosetta.rosetta.core.pose.Pose'> <class '__main__.LoadedPDB'>\n"
     ]
    }
   ],
   "source": [
    "# LoadedPDB can also directly be initialized from a Pose object\n",
    "pose_obj=pyrosetta.pose_from_pdb(\"PDBs/7qr4_clean.pdb\")\n",
    "copied_pose=LoadedPDB(pose_obj)\n",
    "print(type(pose_obj),type(copied_pose))"
   ]
  },
  {
   "cell_type": "markdown",
   "id": "c516d91c-c9cb-4e5c-b2c6-f0abbf9bcd7d",
   "metadata": {},
   "source": [
    "### Regular functionality"
   ]
  },
  {
   "cell_type": "code",
   "execution_count": 4,
   "id": "2f3b4df7-bed4-42b0-8d1c-4c65ee5d743b",
   "metadata": {},
   "outputs": [
    {
     "name": "stdout",
     "output_type": "stream",
     "text": [
      "Sequence:\n",
      "gggggccacagcagaagcguucacgucgcagccccugucagccauugcacuccggcugcgaauucugcu \n",
      "\n",
      "Conformation:\n",
      "RESCON: 1 RGU:LowerRNA:Virtual_Phosphate n-conn= 1 n-poly= 1 n-nonpoly= 0 conn# 1 9 2 1\n",
      "RESCON: 2 RGU n-conn= 2 n-poly= 2 n-nonpoly= 0 conn# 1 1 1 1 conn# 2 9 3 1\n",
      "RESCON: 3 RGU n-conn= 2 n-poly= 2 n-nonpoly= 0 conn# 1 1 2 2 conn# 2 9 4 1\n",
      "RESCON: 4 RGU n-conn= 2 n-poly= 2 n-nonpoly= 0 conn# 1 1 3 2 conn# 2 9 5 1\n",
      "RESCON: 5 RGU n-conn= 2 n-poly= 2 n-nonpoly= 0 conn# 1 1 4 2 conn# 2 9 6 1\n",
      "RESCON: 6 RCY n-conn= 2 n-poly= 2 n-nonpoly= 0 conn# 1 1 5 2 conn# 2 9 7 1\n",
      "RESCON: 7 RCY n-conn= 2 n-poly= 2 n-nonpoly= 0 conn# 1 1 6 2 conn# 2 9 8 1\n",
      "RESCON: 8 RAD n-conn= 2 n-poly= 2 n-nonpoly= 0 conn# 1 1 7 2 conn# 2 9 9 1\n",
      "RESCON: 9 RCY n-conn= 2 n-poly= 2 n-nonpoly= 0 conn# 1 1 8 2 conn# 2 9 10 1\n",
      "RESCON: 10 RAD n-conn= 2 n-poly= 2 n-nonpoly= 0 conn# 1 1 9 2 conn# 2 9 11 1\n",
      "RESCON: 11 RGU n-conn= 2 n-poly= 2 n-nonpoly= 0 conn# 1 1 10 2 conn# 2 9 12 1\n",
      "RESCON: 12 RCY n-conn= 2 n-poly= 2 n-nonpoly= 0 conn# 1 1 11 2 conn# 2 9 13 1\n",
      "RESCON: 13 RAD n-conn= 2 n-poly= 2 n-nonpoly= 0 conn# 1 1 12 2 conn# 2 9 14 1\n",
      "RESCON: 14 RGU n-conn= 2 n-poly= 2 n-nonpoly= 0 conn# 1 1 13 2 conn# 2 9 15 1\n",
      "RESCON: 15 RAD n-conn= 2 n-poly= 2 n-nonpoly= 0 conn# 1 1 14 2 conn# 2 9 16 1\n",
      "RESCON: 16 RAD n-conn= 2 n-poly= 2 n-nonpoly= 0 conn# 1 1 15 2 conn# 2 9 17 1\n",
      "RESCON: 17 RGU n-conn= 2 n-poly= 2 n-nonpoly= 0 conn# 1 1 16 2 conn# 2 9 18 1\n",
      "RESCON: 18 RCY n-conn= 2 n-poly= 2 n-nonpoly= 0 conn# 1 1 17 2 conn# 2 9 19 1\n",
      "RESCON: 19 RGU n-conn= 2 n-poly= 2 n-nonpoly= 0 conn# 1 1 18 2 conn# 2 9 20 1\n",
      "RESCON: 20 URA n-conn= 2 n-poly= 2 n-nonpoly= 0 conn# 1 1 19 2 conn# 2 9 21 1\n",
      "RESCON: 21 URA n-conn= 2 n-poly= 2 n-nonpoly= 0 conn# 1 1 20 2 conn# 2 9 22 1\n",
      "RESCON: 22 RCY n-conn= 2 n-poly= 2 n-nonpoly= 0 conn# 1 1 21 2 conn# 2 9 23 1\n",
      "RESCON: 23 RAD n-conn= 2 n-poly= 2 n-nonpoly= 0 conn# 1 1 22 2 conn# 2 9 24 1\n",
      "RESCON: 24 RCY n-conn= 2 n-poly= 2 n-nonpoly= 0 conn# 1 1 23 2 conn# 2 9 25 1\n",
      "RESCON: 25 RGU n-conn= 2 n-poly= 2 n-nonpoly= 0 conn# 1 1 24 2 conn# 2 9 26 1\n",
      "RESCON: 26 URA n-conn= 2 n-poly= 2 n-nonpoly= 0 conn# 1 1 25 2 conn# 2 9 27 1\n",
      "RESCON: 27 RCY n-conn= 2 n-poly= 2 n-nonpoly= 0 conn# 1 1 26 2 conn# 2 9 28 1\n",
      "RESCON: 28 RGU n-conn= 2 n-poly= 2 n-nonpoly= 0 conn# 1 1 27 2 conn# 2 9 29 1\n",
      "RESCON: 29 RCY n-conn= 2 n-poly= 2 n-nonpoly= 0 conn# 1 1 28 2 conn# 2 9 30 1\n",
      "RESCON: 30 RAD n-conn= 2 n-poly= 2 n-nonpoly= 0 conn# 1 1 29 2 conn# 2 9 31 1\n",
      "RESCON: 31 RGU n-conn= 2 n-poly= 2 n-nonpoly= 0 conn# 1 1 30 2 conn# 2 9 32 1\n",
      "RESCON: 32 RCY n-conn= 2 n-poly= 2 n-nonpoly= 0 conn# 1 1 31 2 conn# 2 9 33 1\n",
      "RESCON: 33 RCY n-conn= 2 n-poly= 2 n-nonpoly= 0 conn# 1 1 32 2 conn# 2 9 34 1\n",
      "RESCON: 34 RCY n-conn= 2 n-poly= 2 n-nonpoly= 0 conn# 1 1 33 2 conn# 2 9 35 1\n",
      "RESCON: 35 RCY n-conn= 2 n-poly= 2 n-nonpoly= 0 conn# 1 1 34 2 conn# 2 9 36 1\n",
      "RESCON: 36 URA n-conn= 2 n-poly= 2 n-nonpoly= 0 conn# 1 1 35 2 conn# 2 9 37 1\n",
      "RESCON: 37 RGU n-conn= 2 n-poly= 2 n-nonpoly= 0 conn# 1 1 36 2 conn# 2 9 38 1\n",
      "RESCON: 38 URA n-conn= 2 n-poly= 2 n-nonpoly= 0 conn# 1 1 37 2 conn# 2 9 39 1\n",
      "RESCON: 39 RCY n-conn= 2 n-poly= 2 n-nonpoly= 0 conn# 1 1 38 2 conn# 2 9 40 1\n",
      "RESCON: 40 RAD n-conn= 2 n-poly= 2 n-nonpoly= 0 conn# 1 1 39 2 conn# 2 9 41 1\n",
      "RESCON: 41 RGU n-conn= 2 n-poly= 2 n-nonpoly= 0 conn# 1 1 40 2 conn# 2 9 42 1\n",
      "RESCON: 42 RCY n-conn= 2 n-poly= 2 n-nonpoly= 0 conn# 1 1 41 2 conn# 2 9 43 1\n",
      "RESCON: 43 RCY n-conn= 2 n-poly= 2 n-nonpoly= 0 conn# 1 1 42 2 conn# 2 9 44 1\n",
      "RESCON: 44 RAD n-conn= 2 n-poly= 2 n-nonpoly= 0 conn# 1 1 43 2 conn# 2 9 45 1\n",
      "RESCON: 45 URA n-conn= 2 n-poly= 2 n-nonpoly= 0 conn# 1 1 44 2 conn# 2 9 46 1\n",
      "RESCON: 46 URA n-conn= 2 n-poly= 2 n-nonpoly= 0 conn# 1 1 45 2 conn# 2 9 47 1\n",
      "RESCON: 47 RGU n-conn= 2 n-poly= 2 n-nonpoly= 0 conn# 1 1 46 2 conn# 2 9 48 1\n",
      "RESCON: 48 RCY n-conn= 2 n-poly= 2 n-nonpoly= 0 conn# 1 1 47 2 conn# 2 9 49 1\n",
      "RESCON: 49 RAD n-conn= 2 n-poly= 2 n-nonpoly= 0 conn# 1 1 48 2 conn# 2 9 50 1\n",
      "RESCON: 50 RCY n-conn= 2 n-poly= 2 n-nonpoly= 0 conn# 1 1 49 2 conn# 2 9 51 1\n",
      "RESCON: 51 URA n-conn= 2 n-poly= 2 n-nonpoly= 0 conn# 1 1 50 2 conn# 2 9 52 1\n",
      "RESCON: 52 RCY n-conn= 2 n-poly= 2 n-nonpoly= 0 conn# 1 1 51 2 conn# 2 9 53 1\n",
      "RESCON: 53 RCY n-conn= 2 n-poly= 2 n-nonpoly= 0 conn# 1 1 52 2 conn# 2 9 54 1\n",
      "RESCON: 54 RGU n-conn= 2 n-poly= 2 n-nonpoly= 0 conn# 1 1 53 2 conn# 2 9 55 1\n",
      "RESCON: 55 RGU n-conn= 2 n-poly= 2 n-nonpoly= 0 conn# 1 1 54 2 conn# 2 9 56 1\n",
      "RESCON: 56 RCY n-conn= 2 n-poly= 2 n-nonpoly= 0 conn# 1 1 55 2 conn# 2 9 57 1\n",
      "RESCON: 57 URA n-conn= 2 n-poly= 2 n-nonpoly= 0 conn# 1 1 56 2 conn# 2 9 58 1\n",
      "RESCON: 58 RGU n-conn= 2 n-poly= 2 n-nonpoly= 0 conn# 1 1 57 2 conn# 2 9 59 1\n",
      "RESCON: 59 RCY n-conn= 2 n-poly= 2 n-nonpoly= 0 conn# 1 1 58 2 conn# 2 9 60 1\n",
      "RESCON: 60 RGU n-conn= 2 n-poly= 2 n-nonpoly= 0 conn# 1 1 59 2 conn# 2 9 61 1\n",
      "RESCON: 61 RAD n-conn= 2 n-poly= 2 n-nonpoly= 0 conn# 1 1 60 2 conn# 2 9 62 1\n",
      "RESCON: 62 RAD n-conn= 2 n-poly= 2 n-nonpoly= 0 conn# 1 1 61 2 conn# 2 9 63 1\n",
      "RESCON: 63 URA n-conn= 2 n-poly= 2 n-nonpoly= 0 conn# 1 1 62 2 conn# 2 9 64 1\n",
      "RESCON: 64 URA n-conn= 2 n-poly= 2 n-nonpoly= 0 conn# 1 1 63 2 conn# 2 9 65 1\n",
      "RESCON: 65 RCY n-conn= 2 n-poly= 2 n-nonpoly= 0 conn# 1 1 64 2 conn# 2 9 66 1\n",
      "RESCON: 66 URA n-conn= 2 n-poly= 2 n-nonpoly= 0 conn# 1 1 65 2 conn# 2 9 67 1\n",
      "RESCON: 67 RGU n-conn= 2 n-poly= 2 n-nonpoly= 0 conn# 1 1 66 2 conn# 2 9 68 1\n",
      "RESCON: 68 RCY n-conn= 2 n-poly= 2 n-nonpoly= 0 conn# 1 1 67 2 conn# 2 9 69 1\n",
      "RESCON: 69 URA:UpperRNA n-conn= 1 n-poly= 1 n-nonpoly= 0 conn# 1 1 68 2\n",
      " \n",
      "\n",
      "Picking out residues:\n",
      "Residue 5: RGU (  G, g):\n",
      "Base: RGU\n",
      " Properties: POLYMER CANONICAL_NUCLEIC RNA POLAR CHARGED AROMATIC PURINE D_RNA\n",
      " Variant types:\n",
      " Main-chain atoms:  P    O5'  C5'  C4'  C3'  O3'\n",
      " Backbone atoms:    P    OP2  OP1  O5'  C5'  C4'  O4'  C3'  O3'  C1'  C2'  H5' H5''  H4'  H3'  H1'  H2'\n",
      " Side-chain atoms:  O2'  N1   C2   N2   N3   C4   C5   C6   O6   N7   C8   N9  HO2'  H1   H22  H21  H8 \n",
      "Atom Coordinates:\n",
      "   P  : -9.229, 22.936, 20.309\n",
      "   OP2: -10.161, 22.311, 19.336\n",
      "   OP1: -9.763, 23.558, 21.546\n",
      "   O5': -8.371, 24.037, 19.54\n",
      "   C5': -7.434, 24.84, 20.24\n",
      "   C4': -6.619, 25.699, 19.306\n",
      "   O4': -5.882, 24.865, 18.373\n",
      "   C3': -7.391, 26.649, 18.405\n",
      "   O3': -7.836, 27.819, 19.069\n",
      "   C1': -5.755, 25.533, 17.133\n",
      "   C2': -6.39, 26.915, 17.29\n",
      "   O2': -5.386, 27.822, 17.719\n",
      "   N1 : -6.451, 24.928, 12.164\n",
      "   C2 : -5.654, 25.824, 12.835\n",
      "   N2 : -4.948, 26.678, 12.078\n",
      "   N3 : -5.56, 25.877, 14.151\n",
      "   C4 : -6.337, 24.947, 14.744\n",
      "   C5 : -7.167, 24.008, 14.168\n",
      "   C6 : -7.26, 23.961, 12.753\n",
      "   O6 : -7.937, 23.203, 12.045\n",
      "   N7 : -7.791, 23.239, 15.142\n",
      "   C8 : -7.339, 23.716, 16.271\n",
      "   N9 : -6.449, 24.748, 16.097\n",
      "   H5': -6.82852, 24.2587, 20.7453\n",
      "  H5'': -7.91548, 25.4209, 20.866\n",
      "   H4': -5.97893, 26.222, 19.8333\n",
      "   H3': -8.16691, 26.1809, 18.0341\n",
      "   H1': -4.80809, 25.6333, 16.9007\n",
      "   H2': -6.83582, 27.2209, 16.4722\n",
      "  HO2': -4.75746, 27.974, 16.9825\n",
      "   H1 : -6.45555, 24.9684, 11.1849\n",
      "   H22: -4.36332, 27.3407, 12.5026\n",
      "   H21: -5.01496, 26.6417, 11.1013\n",
      "   H8 : -7.60454, 23.3679, 17.1475\n",
      "Mirrored relative to coordinates in ResidueType: FALSE\n",
      " \n",
      "\n"
     ]
    }
   ],
   "source": [
    "# All regular Pose object functionality is available:\n",
    "print(\"Sequence:\")\n",
    "print(pose.sequence(),\"\\n\")\n",
    "print(\"Conformation:\")\n",
    "print(pose.conformation(),\"\\n\")\n",
    "print(\"Picking out residues:\")\n",
    "print(pose.residue(5),\"\\n\")\n",
    "\n",
    "# Write Pose to PDB file\n",
    "_=pose.dump_pdb(\"example.pdb\")"
   ]
  },
  {
   "cell_type": "markdown",
   "id": "a48a2f5e-9e41-41a9-840d-065a1c6124e0",
   "metadata": {},
   "source": [
    "### Extra options"
   ]
  },
  {
   "cell_type": "code",
   "execution_count": 5,
   "id": "40bfc393-d076-4f6b-9596-f1976792d005",
   "metadata": {},
   "outputs": [
    {
     "name": "stdout",
     "output_type": "stream",
     "text": [
      "No of residues: 69\n",
      "Iterating to get sequence:\tgggggccacagcagaagcguucacgucgcagccccugucagccauugcacuccggcugcgaauucugcu\n",
      "Alphas: [  0.         -57.83213223 -35.99942742 -59.79865542 -68.31282507]\n",
      "Zetas: [ -79.39541652 -103.74819728  -87.83606941  -75.71824248  -93.58806413]\n",
      "All H atoms: [2205 2206 2207 2208 2209]\n",
      "All C2 atoms: [2067 2098 2128 2162 2193]\n"
     ]
    }
   ],
   "source": [
    "# Count residues\n",
    "print(\"No of residues:\",len(pose))\n",
    "\n",
    "# Iterate over residues\n",
    "print(\"Iterating to get sequence:\",end=\"\\t\")\n",
    "for res in pose:\n",
    "    print(res.name1(),end=\"\") # Prints out 1-letter code for each residue\n",
    "print()\n",
    "\n",
    "# Batch request key angles:\n",
    "print(\"Alphas:\",pose.generic_all(\"alpha\")[:5]) # All 'alpha' angles for each residue of RNA (Truncated for brevity)\n",
    "print(\"Zetas:\",pose.generic_all(\"zeta\")[:5]) # All 'zeta' angles for each residue of RNA (Truncated for brevity)\n",
    "\n",
    "# Find all atom indices that satisfy a given requirement (atoms are indexed from 1 ... N, sorted first by residue number, then within the residue)\n",
    "print(\"All H atoms:\",pose.hydrogen_indices()[-5:]) # Indices of all hydrogen atoms (truncated for brevity)\n",
    "print(\"All C2 atoms:\",pose.matching_indices(lambda res,idx: res.atom_name(idx).strip()==\"C2\")[-5:]) # Indices of all C2 atoms (truncated for brevity)"
   ]
  },
  {
   "cell_type": "markdown",
   "id": "68cf6693-e31d-4459-b151-a0a5c46533bd",
   "metadata": {},
   "source": [
    "### Complex tasks\n",
    "Still under development. More tasks are being added everyday"
   ]
  },
  {
   "cell_type": "code",
   "execution_count": 6,
   "id": "cd80ca82-3b49-49cb-9e3d-bcbe2ba32177",
   "metadata": {},
   "outputs": [
    {
     "name": "stdout",
     "output_type": "stream",
     "text": [
      "[[[ 0.          0.          0.          0.        ]\n",
      "  [-0.19939528  2.26277955  7.16698604  6.28467412]\n",
      "  [ 0.          0.          0.          0.        ]\n",
      "  ...\n",
      "  [ 0.          0.          0.          0.        ]\n",
      "  [ 0.          0.          0.          0.        ]\n",
      "  [ 0.          0.          0.          0.        ]]\n",
      "\n",
      " [[-2.66478286 -1.90334751 -6.88384963  7.13962068]\n",
      "  [ 0.          0.          0.          0.        ]\n",
      "  [ 2.95098735  2.26405313  6.64913453  8.20135269]\n",
      "  ...\n",
      "  [ 0.          0.          0.          0.        ]\n",
      "  [ 0.          0.          0.          0.        ]\n",
      "  [ 0.          0.          0.          0.        ]]\n",
      "\n",
      " [[ 0.          0.          0.          0.        ]\n",
      "  [-3.49957006 -0.20016804 -6.7781188   8.00144482]\n",
      "  [ 0.          0.          0.          0.        ]\n",
      "  ...\n",
      "  [ 0.          0.          0.          0.        ]\n",
      "  [ 0.          0.          0.          0.        ]\n",
      "  [ 0.          0.          0.          0.        ]]\n",
      "\n",
      " ...\n",
      "\n",
      " [[ 0.          0.          0.          0.        ]\n",
      "  [ 0.          0.          0.          0.        ]\n",
      "  [ 0.          0.          0.          0.        ]\n",
      "  ...\n",
      "  [ 0.          0.          0.          0.        ]\n",
      "  [ 1.54821791 -0.400951    7.41446204  8.54993931]\n",
      "  [ 0.1664349   0.09477022  0.62570281  0.0280763 ]]\n",
      "\n",
      " [[ 0.          0.          0.          0.        ]\n",
      "  [ 0.          0.          0.          0.        ]\n",
      "  [ 0.          0.          0.          0.        ]\n",
      "  ...\n",
      "  [-0.98733045  1.16072901 -7.43486602  8.51216623]\n",
      "  [ 0.          0.          0.          0.        ]\n",
      "  [ 2.3364469   1.24335992  7.06215727  6.42205957]]\n",
      "\n",
      " [[ 0.          0.          0.          0.        ]\n",
      "  [ 0.          0.          0.          0.        ]\n",
      "  [ 0.          0.          0.          0.        ]\n",
      "  ...\n",
      "  [-0.41988107  0.29082372 -1.31862246  0.13201707]\n",
      "  [-3.27700268  0.7287322  -6.83727022  7.05382607]\n",
      "  [ 0.          0.          0.          0.        ]]]\n"
     ]
    }
   ],
   "source": [
    "#Get all g-vectors\n",
    "print(pose.get_gmat()) # Default cut-off (24 A - chosen from barnaba)"
   ]
  },
  {
   "cell_type": "code",
   "execution_count": 7,
   "id": "879d3890-4cd4-4f6c-8d2a-e021b5c3b382",
   "metadata": {},
   "outputs": [
    {
     "name": "stdout",
     "output_type": "stream",
     "text": [
      "Atom coordinates: torch.Size([1466, 3])\n",
      "Atom coordinates (H atoms included): torch.Size([2210, 3])\n"
     ]
    }
   ],
   "source": [
    "# Get all atom coordinates as a torch tensor (Useful for training)\n",
    "print(\"Atom coordinates:\",get_torch_rep(pose).shape) # By default it ignores H-atoms\n",
    "print(\"Atom coordinates (H atoms included):\",get_torch_rep(pose,ignore_Hs=False).shape)"
   ]
  },
  {
   "cell_type": "code",
   "execution_count": 8,
   "id": "b69750ed-c431-4eb0-942e-f71c22d5eb81",
   "metadata": {},
   "outputs": [
    {
     "name": "stdout",
     "output_type": "stream",
     "text": [
      "0 1419.093994140625\n",
      "100 1308.368408203125\n",
      "200 1184.1339111328125\n",
      "300 1058.693359375\n",
      "400 944.8593139648438\n",
      "500 851.0695190429688\n",
      "600 779.6177368164062\n",
      "700 728.1978759765625\n",
      "800 692.498291015625\n",
      "900 668.1277465820312\n"
     ]
    },
    {
     "data": {
      "text/plain": [
       "pyrosetta.rosetta.core.pose.Pose"
      ]
     },
     "execution_count": 8,
     "metadata": {},
     "output_type": "execute_result"
    }
   ],
   "source": [
    "# 3D alignment (minimized RMSD under rigid-body re-orientation)\n",
    "# Still needs to be verified if working correctly\n",
    "to_align=LoadedPDB(\"PDBs/rosetta_0.pdb\")\n",
    "aligned_pose=align_poses(ref_struct=pose,pose_struct=to_align,max_iter=1000,silent=False,printevery=100)\n",
    "type(aligned_pose)"
   ]
  },
  {
   "cell_type": "code",
   "execution_count": 11,
   "id": "5a0b7ca3-0af2-4ea7-a6ae-f6186676ba25",
   "metadata": {},
   "outputs": [
    {
     "name": "stdout",
     "output_type": "stream",
     "text": [
      "Before alignment: 47.998592246246126\n",
      "After alignment: 25.52419996092638\n"
     ]
    }
   ],
   "source": [
    "# Get RMSD (No Alignment is done. Matching Atoms are assumed to be in the same order for both structures, with no atoms/residues missing)\n",
    "# It is OK if some atoms/residues are missing if the EXACT SAME are missing from the other structure\n",
    "\n",
    "print(\"Before alignment:\",get_rmsd(pose,to_align)) # Ignores H-atoms (usually not a big difference for RNA)\n",
    "print(\"After alignment:\",get_rmsd(pose,aligned_pose)) # Ignores H-atoms (usually not a big difference for RNA)\n",
    "#Note: Results are in Angstroms"
   ]
  }
 ],
 "metadata": {
  "kernelspec": {
   "display_name": "Python 3 (ipykernel)",
   "language": "python",
   "name": "python3"
  },
  "language_info": {
   "codemirror_mode": {
    "name": "ipython",
    "version": 3
   },
   "file_extension": ".py",
   "mimetype": "text/x-python",
   "name": "python",
   "nbconvert_exporter": "python",
   "pygments_lexer": "ipython3",
   "version": "3.10.13"
  }
 },
 "nbformat": 4,
 "nbformat_minor": 5
}
