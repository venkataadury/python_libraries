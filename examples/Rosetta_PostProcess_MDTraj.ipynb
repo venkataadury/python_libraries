{
 "cells": [
  {
   "cell_type": "markdown",
   "id": "2ad236ed-0114-428a-934c-590ff8e73c78",
   "metadata": {},
   "source": [
    "## About\n",
    "This notebook is used to compute the best aligned rosetta pose from TM output.<br/>\n",
    "Sometimes, atom-names do not match/are shuffled in the final output. This notebook uses mdtraj to sort them out as well as compute the RMSD.<br/> The final output RMSD is in Angstroms<br/>\n",
    "\n",
    "This pose can later be used for other analyses\n",
    "\n",
    "**Note:** Some parts of this code may be sensitive to the RNA chosen. These regions are marked out with a <i>'#TODO: Change accordingly'</i> tag"
   ]
  },
  {
   "cell_type": "code",
   "execution_count": 1,
   "id": "5082fcaf-bd59-4d44-bd9f-f2215c0a826e",
   "metadata": {},
   "outputs": [
    {
     "name": "stderr",
     "output_type": "stream",
     "text": [
      "/home/venkata/micromamba/thermomaps/lib/python3.10/site-packages/Bio/Application/__init__.py:40: BiopythonDeprecationWarning: The Bio.Application modules and modules relying on it have been deprecated.\n",
      "\n",
      "Due to the on going maintenance burden of keeping command line application\n",
      "wrappers up to date, we have decided to deprecate and eventually remove these\n",
      "modules.\n",
      "\n",
      "We instead now recommend building your command line and invoking it directly\n",
      "with the subprocess module.\n",
      "  warnings.warn(\n"
     ]
    },
    {
     "name": "stdout",
     "output_type": "stream",
     "text": [
      "┌──────────────────────────────────────────────────────────────────────────────┐\n",
      "│                                 PyRosetta-4                                  │\n",
      "│              Created in JHU by Sergey Lyskov and PyRosetta Team              │\n",
      "│              (C) Copyright Rosetta Commons Member Institutions               │\n",
      "│                                                                              │\n",
      "│ NOTE: USE OF PyRosetta FOR COMMERCIAL PURPOSES REQUIRE PURCHASE OF A LICENSE │\n",
      "│              See LICENSE.md or email license@uw.edu for details              │\n",
      "└──────────────────────────────────────────────────────────────────────────────┘\n",
      "PyRosetta-4 2024 [Rosetta PyRosetta4.Release.python310.linux 2024.08+release.717d2e8232174371f0c672564f23a097062db88a 2024-02-21T10:16:44] retrieved from: http://www.pyrosetta.org\n"
     ]
    }
   ],
   "source": [
    "import MDAnalysis as mda\n",
    "from MDAnalysis.analysis import align\n",
    "import os\n",
    "import mdtraj as md\n",
    "%run ../PyRosetta/General.ipynb"
   ]
  },
  {
   "cell_type": "code",
   "execution_count": 2,
   "id": "b8d4a3d1-206b-4485-a797-88149421d7a3",
   "metadata": {},
   "outputs": [
    {
     "name": "stdout",
     "output_type": "stream",
     "text": [
      "Rosetta folder found: True\n"
     ]
    }
   ],
   "source": [
    "ROOT_DIR=\"/home/venkata/python/PyRosetta/R1107/server/example9/\" #TODO: Change Accordingly\n",
    "ref_pose_file=ROOT_DIR+\"../../7qr4_clean_noprotein.pdb\" #TODO: Change Accordingly (Set it to the path of your crystal PDB)\n",
    "ref_pose=LoadedPDB(ref_pose_file) \n",
    "print(\"Rosetta folder found:\",(\"rosetta\" in os.listdir(ROOT_DIR)))"
   ]
  },
  {
   "cell_type": "code",
   "execution_count": 4,
   "id": "bcc8e500-cffc-4fad-b4bb-4ae68536e741",
   "metadata": {},
   "outputs": [
    {
     "name": "stdout",
     "output_type": "stream",
     "text": [
      "Cluster cluster0.xtc complete\n",
      "Cluster cluster1.xtc complete\n",
      "Cluster cluster10.xtc complete\n",
      "Cluster cluster11.xtc complete\n",
      "Cluster cluster12.xtc complete\n",
      "Cluster cluster13.xtc complete\n",
      "Cluster cluster14.xtc complete\n",
      "Cluster cluster15.xtc complete\n",
      "Cluster cluster16.xtc complete\n",
      "Cluster cluster17.xtc complete\n",
      "Cluster cluster18.xtc complete\n",
      "Cluster cluster19.xtc complete\n",
      "Cluster cluster2.xtc complete\n",
      "Cluster cluster20.xtc complete\n",
      "Cluster cluster21.xtc complete\n",
      "Cluster cluster22.xtc complete\n",
      "Cluster cluster23.xtc complete\n",
      "Cluster cluster24.xtc complete\n",
      "Cluster cluster25.xtc complete\n",
      "Cluster cluster26.xtc complete\n",
      "Cluster cluster27.xtc complete\n",
      "Cluster cluster28.xtc complete\n",
      "Cluster cluster29.xtc complete\n",
      "Cluster cluster3.xtc complete\n",
      "Cluster cluster30.xtc complete\n",
      "Cluster cluster31.xtc complete\n",
      "Cluster cluster32.xtc complete\n",
      "Cluster cluster33.xtc complete\n",
      "Cluster cluster4.xtc complete\n",
      "Cluster cluster5.xtc complete\n",
      "Cluster cluster6.xtc complete\n",
      "Cluster cluster7.xtc complete\n",
      "Cluster cluster8.xtc complete\n",
      "Cluster cluster9.xtc complete\n"
     ]
    }
   ],
   "source": [
    "# Find all cluster XTC files\n",
    "clusters=sorted([f for f in os.listdir(ROOT_DIR+\"/rosetta/xtc\") if (f.endswith(\".xtc\") and f.startswith(\"cluster\"))])\n",
    "\n",
    "ref_frame=md.load(ref_pose_file)\n",
    "ref_frame.restrict_atoms(ref_frame.topology.select(\"!element H\")[1:]) # TODO: Change accordingly (Identify which atoms in reference frame are not in the trajectory. You still need to identify these manually, but shouldn't be too many atoms (usually just capping))\n",
    "\n",
    "resolved_rmsds=[]\n",
    "min_rmsd=1e6 # Very large value\n",
    "min_pose=None\n",
    "for cl in clusters:\n",
    "    all_frames=md.load(ROOT_DIR+\"/rosetta/xtc/\"+cl,top=ROOT_DIR+\"/rosetta/xtc/top.pdb\")\n",
    "\n",
    "    # Pick and sort all the heavy atoms into one specific order\n",
    "    ref_names=np.array([str(ref_frame.topology.atom(i)).strip() for i in range(ref_frame.xyz.shape[1])],dtype=str)\n",
    "    s1=np.argsort(ref_names)\n",
    "\n",
    "    ref_xyz=ref_frame.xyz[0][s1]\n",
    "    for i in range(len(all_frames)):\n",
    "        frame=all_frames[i]\n",
    "        frame.restrict_atoms(frame.topology.select(\"!element H\")) # Pick heavy atoms\n",
    "\n",
    "        # Sort all heavy atoms in the same way we did the reference frame\n",
    "        frame_names=np.array([str(frame.topology.atom(i)).strip() for i in range(frame.xyz.shape[1])],dtype=str)\n",
    "        s2=np.argsort(frame_names)\n",
    "\n",
    "        # Check that all atom-names match 1-1 before aligning\n",
    "        assert(np.sum(frame_names[s2]==ref_names[s1])==len(ref_names))\n",
    "\n",
    "        # Get XYZ, align and compute RMSD\n",
    "        frame_xyz=frame.xyz[0][s2]\n",
    "        rms_val=align.rms.rmsd(ref_xyz,frame_xyz,superposition=True)*10\n",
    "        resolved_rmsds.append(rms_val)\n",
    "\n",
    "        # If this is the best pose so far, record it\n",
    "        if rms_val<min_rmsd:\n",
    "            min_rmsd=rms_val\n",
    "            min_pose=frame\n",
    "    print(\"Cluster\",cl,\"complete\")\n",
    "resolved_rmsds=np.array(resolved_rmsds)"
   ]
  },
  {
   "cell_type": "code",
   "execution_count": 5,
   "id": "7a861087-2bcf-445c-a1f6-1706547e4686",
   "metadata": {},
   "outputs": [
    {
     "name": "stdout",
     "output_type": "stream",
     "text": [
      "Lowest RMSD: 13.78014028901003\n"
     ]
    }
   ],
   "source": [
    "# Save the RMSDs\n",
    "np.save(ROOT_DIR+\"/rosetta/RMSD_crystal.npy\",resolved_rmsds)\n",
    "\n",
    "# Print out the lowest RMSD\n",
    "print(\"Lowest RMSD:\",np.min(resolved_rmsds))"
   ]
  },
  {
   "cell_type": "code",
   "execution_count": 6,
   "id": "6f5bce4e-beea-41a9-a045-0fc8c9fac2ee",
   "metadata": {},
   "outputs": [],
   "source": [
    "resolved_rmsds=np.load(ROOT_DIR+\"/rosetta/RMSD_crystal.npy\")"
   ]
  },
  {
   "cell_type": "code",
   "execution_count": 7,
   "id": "dc7da2ab-e925-411b-9aa0-baaba4cec3d8",
   "metadata": {},
   "outputs": [
    {
     "data": {
      "text/plain": [
       "(array([1]), [])"
      ]
     },
     "execution_count": 7,
     "metadata": {},
     "output_type": "execute_result"
    },
    {
     "data": {
      "image/png": "[encoded data removed]",
      "text/plain": [
       "<Figure size 1000x1000 with 1 Axes>"
      ]
     },
     "metadata": {},
     "output_type": "display_data"
    }
   ],
   "source": [
    "# Make a box-plot with rosetta poses RMSD values\n",
    "import matplotlib.pyplot as plt\n",
    "\n",
    "plt.figure(figsize=(10,10))\n",
    "ax = plt.axes((0, 0, 1, 1))\n",
    "ax.text(1.05,14.5, \"Min: \"+str(round(np.min(resolved_rmsds),2)), fontsize=16, color='green')\n",
    "bplot=plt.boxplot(resolved_rmsds,patch_artist=True,notch=False)\n",
    "bplot[\"boxes\"][0].set_color(\"blue\")\n",
    "bplot[\"medians\"][0].set_color(\"yellow\")\n",
    "[whisk.set_color(\"orange\") for whisk in bplot[\"whiskers\"]]\n",
    "[whisk.set_color(\"orange\") for whisk in bplot[\"caps\"]]\n",
    "\n",
    "plt.title(\"RMSD for Rosetta predictions (500 structures)\",fontsize=24)\n",
    "plt.tick_params(\n",
    "    axis='x',          # changes apply to the x-axis\n",
    "    which='both',      # both major and minor ticks are affected\n",
    "    bottom=False,      # ticks along the bottom edge are off\n",
    "    top=False,         # ticks along the top edge are off\n",
    "    labelbottom=False)\n",
    "plt.yticks(fontsize=18)\n",
    "plt.ylabel(\"RMSD (A)\",fontsize=20)\n",
    "plt.xticks()\n",
    "#plt.ylim(0,2)"
   ]
  },
  {
   "cell_type": "markdown",
   "id": "3473a1be-d300-4fc2-8318-927889ae2b24",
   "metadata": {},
   "source": [
    "#### Save the pose closest to the crystal structure"
   ]
  },
  {
   "cell_type": "code",
   "execution_count": 8,
   "id": "c91def72-47c2-4850-aa09-84a1ab2eac49",
   "metadata": {},
   "outputs": [],
   "source": [
    "min_pose.save_pdb(ROOT_DIR+\"/rosetta/crystal_closest.pdb\")"
   ]
  },
  {
   "cell_type": "code",
   "execution_count": 11,
   "id": "c3e4cae5-a2b6-49de-b4de-388a0e3f2867",
   "metadata": {},
   "outputs": [
    {
     "name": "stdout",
     "output_type": "stream",
     "text": [
      "13.78064690415585 is RMSD for best structure\n"
     ]
    }
   ],
   "source": [
    "best_rosetta=LoadedPDB(ROOT_DIR+\"/rosetta/crystal_closest.pdb\")\n",
    "\n",
    "# Align the closest match to the crystal structure and save it\n",
    "aligned_best_rosetta=align_poses(ref_pose,best_rosetta,silent=True,max_iter=5000)\n",
    "aligned_best_rosetta.dump_pdb(ROOT_DIR+\"/rosetta/crystal_closest_aligned.pdb\")\n",
    "print(get_rmsd(ref_pose,aligned_best_rosetta),\"is RMSD for best structure\")"
   ]
  }
 ],
 "metadata": {
  "kernelspec": {
   "display_name": "Python 3 (ipykernel)",
   "language": "python",
   "name": "python3"
  },
  "language_info": {
   "codemirror_mode": {
    "name": "ipython",
    "version": 3
   },
   "file_extension": ".py",
   "mimetype": "text/x-python",
   "name": "python",
   "nbconvert_exporter": "python",
   "pygments_lexer": "ipython3",
   "version": "3.10.13"
  }
 },
 "nbformat": 4,
 "nbformat_minor": 5
}
