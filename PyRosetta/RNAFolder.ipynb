{
 "cells": [
  {
   "cell_type": "code",
   "execution_count": 1,
   "id": "b923f491-0925-4752-88b2-98047d108f69",
   "metadata": {},
   "outputs": [],
   "source": [
    "import pyrosetta\n",
    "from pyrosetta import rosetta\n",
    "from pyrosetta.rosetta import core\n",
    "from pyrosetta.rosetta.core.import_pose import pose_from_file\n",
    "from pyrosetta.rosetta.core.io.pdb import dump_pdb\n",
    "from pyrosetta.rosetta.core.io.pdb import add_to_multimodel_pdb\n",
    "from pyrosetta.rosetta.core.chemical import VariantType\n",
    "from pyrosetta.io import poses_from_silent\n",
    "from pyrosetta.rosetta.protocols.rna.denovo import RNA_DeNovoProtocol\n",
    "\n",
    "import tempfile\n",
    "import os\n",
    "class Arguments:\n",
    "    def __init__(self): pass"
   ]
  },
  {
   "cell_type": "code",
   "execution_count": 2,
   "id": "4bffe940-5d3e-4917-9d6e-e4dd5697c16e",
   "metadata": {},
   "outputs": [
    {
     "name": "stdout",
     "output_type": "stream",
     "text": [
      "The history saving thread hit an unexpected error (OperationalError('database is locked')).History will not be written to the database.\n"
     ]
    }
   ],
   "source": [
    "def mc_sample_single_process(args):\n",
    "    input_pdbs = rosetta.utility.vector1_std_string()\n",
    "    fasta_files = rosetta.utility.vector1_std_string()\n",
    "\n",
    "    if os.path.exists(args.output_silent_file):\n",
    "        os.remove(args.output_silent_file)\n",
    "    if os.path.exists(args.output_pdb_file):\n",
    "        os.remove(args.output_pdb_file)\n",
    "\n",
    "    # Create a temporary file and write data to it\n",
    "    with tempfile.NamedTemporaryFile(delete=True) as temp:\n",
    "        temp.write(args.sequence.lower().encode())\n",
    "        temp.flush()\n",
    "\n",
    "        fasta_files.append(temp.name)\n",
    "\n",
    "        rna_de_novo_setup = core.import_pose.RNA_DeNovoSetup()\n",
    "        rna_de_novo_setup.set_fasta_files(fasta_files)\n",
    "        rna_de_novo_setup.set_minimize_rna(True)\n",
    "\n",
    "        rna_de_novo_setup.initialize_from_command_line()\n",
    "\n",
    "        rna_de_novo_options = rna_de_novo_setup.options()\n",
    "        rna_de_novo_options.set_nstruct(args.num_structs)\n",
    "        rna_de_novo_options.set_silent_file(args.output_silent_file)\n",
    "\n",
    "        directory = os.path.dirname(args.output_silent_file)\n",
    "        os.makedirs(directory, exist_ok=True)\n",
    "        directory = os.path.dirname(args.output_pdb_file)\n",
    "        os.makedirs(directory, exist_ok=True)\n",
    "\n",
    "        rna_de_novo_protocol = RNA_DeNovoProtocol(\n",
    "            rna_de_novo_options, rna_de_novo_setup.rna_params()\n",
    "        )\n",
    "\n",
    "    rna_de_novo_pose = rna_de_novo_setup.pose()\n",
    "    rna_de_novo_protocol.apply(rna_de_novo_pose)\n",
    "    return rna_de_novo_pose"
   ]
  },
  {
   "cell_type": "code",
   "execution_count": 2,
   "id": "ac948078-3698-46c6-a133-3e272a533f52",
   "metadata": {},
   "outputs": [
    {
     "name": "stdout",
     "output_type": "stream",
     "text": [
      "\n"
     ]
    }
   ],
   "source": [
    "'''\n",
    "sample_modeller_parameters=Arguments()\n",
    "sample_modeller_parameters.sequence=\"<seq>\"\n",
    "sample_modeller_parameters.output_silent_file=\"./rna_denovo.log\"\n",
    "sample_modeller_parameters.output_pdb_file=\"./rna_denovo_output.pdb\"\n",
    "sample_modeller_parameters.num_structs=8\n",
    "sample_modeller_parameters.structs_per_job=4\n",
    "'''\n",
    "print()\n",
    "ANGLE_TYPES={1: \"alpha\", 2: \"beta\",3: \"gamma\",4: \"delta\",5: \"epsilon\",6: \"zeta\",7: \"chi\"}\n",
    "ANGLE_STEPS={1: 22.5,2: 22.5,3: 22.5,4: 22.5,5: 22.5,6: 22.5,7: 11.25}\n",
    "class Perturbation:\n",
    "    def __init__(self,rid,angid,delang):\n",
    "        self.residue_id=rid\n",
    "        self.angle_type=angid\n",
    "        self.delta_angle=delang # In degrees (PyRosetta expects degrees)\n",
    "\n",
    "    def apply(self,pose,inverse=False):\n",
    "        if inverse: self.delta_angle*=-1\n",
    "        type=ANGLE_TYPES[self.angle_type]\n",
    "        fx=getattr(pose,type)\n",
    "        set_fx=getattr(pose,\"set_\"+type)\n",
    "        set_fx(self.residue_id,fx(self.residue_id)+self.delta_angle)\n",
    "        if inverse: self.delta_angle*=-1\n",
    "        return pose\n",
    "\n",
    "class PerturbationSequence:\n",
    "    def __init__(self,seq=None):\n",
    "        if seq: self.sequence=seq\n",
    "        else: self.sequence=[]\n",
    "\n",
    "    def add_perturbation(self,p):\n",
    "        self.sequence.append(p)\n",
    "        \n",
    "    def apply(self,pose,inverse=False):\n",
    "        goal=range(len(self.sequence))\n",
    "        if inverse: goal=range(len(self.sequence)-1,-1,-1)\n",
    "        #print(goal)\n",
    "\n",
    "        for i in goal: pose=self.sequence[i].apply(pose,inverse=inverse)\n",
    "        return pose\n",
    "\n",
    "    def __len__(self): return len(self.sequence)\n",
    "\n",
    "    def __iter__(self):\n",
    "        self.current_move=0\n",
    "        return self\n",
    "    def __next__(self):\n",
    "        self.current_move+=1\n",
    "        if self.current_move>=len(self): raise StopIteration()\n",
    "        else: return self.sequence[self.current_move]\n",
    "\n",
    "def generate_random_perturbations(pose,k=1):\n",
    "    # pose is LoadedPDB object\n",
    "    selids=(np.random.random((k,))*len(pose)).astype(int)+1\n",
    "    seltypes=(np.random.random((k,))*len(ANGLE_TYPES)).astype(int)+1\n",
    "    stds=[ANGLE_STEPS[atype] for atype in seltypes]\n",
    "    selmags=np.random.normal(np.zeros(k),stds)\n",
    "    return [Perturbation(selids[i],seltypes[i],selmags[i]) for i in range(len(selids))]"
   ]
  },
  {
   "cell_type": "code",
   "execution_count": 1,
   "id": "52a9fb3c-fbda-44c8-8f46-94225296ae50",
   "metadata": {},
   "outputs": [],
   "source": [
    "'''\n",
    "print(\"sample_modeller_parameters:\")\n",
    "samplemodeldict=sample_modeller_parameters.__dict__\n",
    "for k in samplemodeldict:\n",
    "    print(\"\\t\",k+\":\",samplemodeldict[k])\n",
    "'''\n",
    "pass"
   ]
  }
 ],
 "metadata": {
  "kernelspec": {
   "display_name": "Python 3 (ipykernel)",
   "language": "python",
   "name": "python3"
  },
  "language_info": {
   "codemirror_mode": {
    "name": "ipython",
    "version": 3
   },
   "file_extension": ".py",
   "mimetype": "text/x-python",
   "name": "python",
   "nbconvert_exporter": "python",
   "pygments_lexer": "ipython3",
   "version": "3.10.13"
  }
 },
 "nbformat": 4,
 "nbformat_minor": 5
}
