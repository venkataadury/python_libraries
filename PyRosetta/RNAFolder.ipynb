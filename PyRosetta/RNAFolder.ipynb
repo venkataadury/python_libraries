{
 "cells": [
  {
   "cell_type": "code",
   "execution_count": 1,
   "id": "b923f491-0925-4752-88b2-98047d108f69",
   "metadata": {},
   "outputs": [],
   "source": [
    "import pyrosetta\n",
    "from pyrosetta import rosetta\n",
    "from pyrosetta.rosetta import core\n",
    "from pyrosetta.rosetta.core.import_pose import pose_from_file\n",
    "from pyrosetta.rosetta.core.io.pdb import dump_pdb\n",
    "from pyrosetta.rosetta.core.io.pdb import add_to_multimodel_pdb\n",
    "from pyrosetta.rosetta.core.chemical import VariantType\n",
    "from pyrosetta.io import poses_from_silent\n",
    "from pyrosetta.rosetta.protocols.rna.denovo import RNA_DeNovoProtocol\n",
    "\n",
    "import tempfile\n",
    "import os\n",
    "class Arguments:\n",
    "    def __init__(self): pass"
   ]
  },
  {
   "cell_type": "code",
   "execution_count": 2,
   "id": "4bffe940-5d3e-4917-9d6e-e4dd5697c16e",
   "metadata": {},
   "outputs": [
    {
     "name": "stdout",
     "output_type": "stream",
     "text": [
      "The history saving thread hit an unexpected error (OperationalError('database is locked')).History will not be written to the database.\n"
     ]
    }
   ],
   "source": [
    "def mc_sample_single_process(args):\n",
    "    input_pdbs = rosetta.utility.vector1_std_string()\n",
    "    fasta_files = rosetta.utility.vector1_std_string()\n",
    "\n",
    "    if os.path.exists(args.output_silent_file):\n",
    "        os.remove(args.output_silent_file)\n",
    "    if os.path.exists(args.output_pdb_file):\n",
    "        os.remove(args.output_pdb_file)\n",
    "\n",
    "    # Create a temporary file and write data to it\n",
    "    with tempfile.NamedTemporaryFile(delete=True) as temp:\n",
    "        temp.write(args.sequence.lower().encode())\n",
    "        temp.flush()\n",
    "\n",
    "        fasta_files.append(temp.name)\n",
    "\n",
    "        rna_de_novo_setup = core.import_pose.RNA_DeNovoSetup()\n",
    "        rna_de_novo_setup.set_fasta_files(fasta_files)\n",
    "        rna_de_novo_setup.set_minimize_rna(True)\n",
    "\n",
    "        rna_de_novo_setup.initialize_from_command_line()\n",
    "\n",
    "        rna_de_novo_options = rna_de_novo_setup.options()\n",
    "        rna_de_novo_options.set_nstruct(args.num_structs)\n",
    "        rna_de_novo_options.set_silent_file(args.output_silent_file)\n",
    "\n",
    "        directory = os.path.dirname(args.output_silent_file)\n",
    "        os.makedirs(directory, exist_ok=True)\n",
    "        directory = os.path.dirname(args.output_pdb_file)\n",
    "        os.makedirs(directory, exist_ok=True)\n",
    "\n",
    "        rna_de_novo_protocol = RNA_DeNovoProtocol(\n",
    "            rna_de_novo_options, rna_de_novo_setup.rna_params()\n",
    "        )\n",
    "\n",
    "    rna_de_novo_pose = rna_de_novo_setup.pose()\n",
    "    rna_de_novo_protocol.apply(rna_de_novo_pose)\n",
    "    return rna_de_novo_pose"
   ]
  },
  {
   "cell_type": "code",
   "execution_count": 14,
   "id": "ac948078-3698-46c6-a133-3e272a533f52",
   "metadata": {},
   "outputs": [],
   "source": [
    "sample_modeller_parameters=Arguments()\n",
    "sample_modeller_parameters.sequence=\"<seq>\"\n",
    "sample_modeller_parameters.output_silent_file=\"./rna_denovo.log\"\n",
    "sample_modeller_parameters.output_pdb_file=\"./rna_denovo_output.pdb\"\n",
    "sample_modeller_parameters.num_structs=8\n",
    "sample_modeller_parameters.structs_per_job=4"
   ]
  },
  {
   "cell_type": "code",
   "execution_count": 16,
   "id": "52a9fb3c-fbda-44c8-8f46-94225296ae50",
   "metadata": {},
   "outputs": [
    {
     "name": "stdout",
     "output_type": "stream",
     "text": [
      "sample_modeller_parameters:\n",
      "\t sequence: <seq>\n",
      "\t output_silent_file: ./rna_denovo.log\n",
      "\t output_pdb_file: ./rna_denovo_output.pdb\n",
      "\t num_structs: 8\n",
      "\t structs_per_job: 4\n"
     ]
    }
   ],
   "source": [
    "print(\"sample_modeller_parameters:\")\n",
    "samplemodeldict=sample_modeller_parameters.__dict__\n",
    "for k in samplemodeldict:\n",
    "    print(\"\\t\",k+\":\",samplemodeldict[k])"
   ]
  }
 ],
 "metadata": {
  "kernelspec": {
   "display_name": "Python 3 (ipykernel)",
   "language": "python",
   "name": "python3"
  },
  "language_info": {
   "codemirror_mode": {
    "name": "ipython",
    "version": 3
   },
   "file_extension": ".py",
   "mimetype": "text/x-python",
   "name": "python",
   "nbconvert_exporter": "python",
   "pygments_lexer": "ipython3",
   "version": "3.10.13"
  }
 },
 "nbformat": 4,
 "nbformat_minor": 5
}
