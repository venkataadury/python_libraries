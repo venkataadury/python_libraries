{
 "cells": [
  {
   "cell_type": "code",
   "execution_count": 1,
   "id": "4b6434e2-fa3e-41a0-b9db-aa6fbc069615",
   "metadata": {},
   "outputs": [
    {
     "name": "stdout",
     "output_type": "stream",
     "text": [
      "┌──────────────────────────────────────────────────────────────────────────────┐\n",
      "│                                 PyRosetta-4                                  │\n",
      "│              Created in JHU by Sergey Lyskov and PyRosetta Team              │\n",
      "│              (C) Copyright Rosetta Commons Member Institutions               │\n",
      "│                                                                              │\n",
      "│ NOTE: USE OF PyRosetta FOR COMMERCIAL PURPOSES REQUIRE PURCHASE OF A LICENSE │\n",
      "│              See LICENSE.md or email license@uw.edu for details              │\n",
      "└──────────────────────────────────────────────────────────────────────────────┘\n",
      "PyRosetta-4 2024 [Rosetta PyRosetta4.Release.python310.linux 2024.08+release.717d2e8232174371f0c672564f23a097062db88a 2024-02-21T10:16:44] retrieved from: http://www.pyrosetta.org\n"
     ]
    }
   ],
   "source": [
    "import pyrosetta\n",
    "import numpy as np\n",
    "pyrosetta.init(\"-mute all -out:level 0\")"
   ]
  },
  {
   "cell_type": "code",
   "execution_count": 2,
   "id": "807e286f-89cf-42c8-b46b-876ade9f6396",
   "metadata": {},
   "outputs": [],
   "source": [
    "def get_template_pose(seq,type=\"RNA\",**kwargs):\n",
    "    if type!=\"RNA\":\n",
    "        seq=seq.upper()\n",
    "    else:\n",
    "        seq=seq.lower()\n",
    "    return pyrosetta.pose_from_sequence(seq,**kwargs)"
   ]
  },
  {
   "cell_type": "code",
   "execution_count": 3,
   "id": "2a3103a6-2e9b-4049-abd3-a3dac7bdcef5",
   "metadata": {},
   "outputs": [],
   "source": [
    "def perturb_RNA(pose,seqlen=None,da=10,db=10,dg=10,dd=10,de=10,dz=10,dx=5,amplify=1.0):\n",
    "    if seqlen is None:\n",
    "        seqlen=len(sample_pose.secstruct())\n",
    "    oldpose=pose.clone()\n",
    "    rid=np.random.randint(seqlen)+1\n",
    "    deltas=np.random.normal(np.zeros(7),np.array([da,db,dg,dd,de,dz,dx]).astype(float))*amplify\n",
    "    pose.set_alpha(rid,pose.alpha(rid)+deltas[0])\n",
    "    pose.set_beta(rid,pose.beta(rid)+deltas[1])\n",
    "    pose.set_gamma(rid,pose.gamma(rid)+deltas[2])\n",
    "    pose.set_delta(rid,pose.delta(rid)+deltas[3])\n",
    "    pose.set_epsilon(rid,pose.epsilon(rid)+deltas[4])\n",
    "    pose.set_zeta(rid,pose.zeta(rid)+deltas[5])\n",
    "    pose.set_chi(rid,pose.chi(rid)+deltas[6])\n",
    "    return oldpose,pose"
   ]
  },
  {
   "cell_type": "code",
   "execution_count": 5,
   "id": "c52b8b51-d2dc-4cc7-946a-462a545856d6",
   "metadata": {},
   "outputs": [],
   "source": [
    "class LoadedPDB(pyrosetta.rosetta.core.pose.Pose):\n",
    "    def __init__(self,filename):\n",
    "        pose=pyrosetta.pose_from_pdb(filename)\n",
    "        super(LoadedPDB,self).__init__(pose)\n",
    "\n",
    "    def __call__(self,chn=None,idx=None):\n",
    "        if chn is None: return self\n",
    "        else:\n",
    "            if idx is None: return self.residue(int(chn))\n",
    "            else: return self.residue(self.get_resid(chn,idx))\n",
    "    def __len__(self): return self.pdb_info().nres()\n",
    "    def all_phi(self): return np.array([self.phi(r+1) for r in range(len(self))])\n",
    "    def all_psi(self): return np.array([self.psi(r+1) for r in range(len(self))])\n",
    "    def all_chi(self): return np.array([self.chi(r+1) for r in range(len(self))])\n",
    "    def generic_all(self,param):\n",
    "        '''\n",
    "        A generic function to get all \"param\"s (one from each residue).\n",
    "        For example:\n",
    "            generic_all(\"phi\") -> Same as all_phi()\n",
    "            generic_all(\"alpha\") -> Returns a list of all alpha angles (RNA only)\n",
    "        '''\n",
    "        fx=getattr(self,param)\n",
    "        ret=np.array([fx(r+1) for r in range(len(self))])\n",
    "        return ret\n",
    "    def all_generic(self,param): return self.generic_all(param)\n",
    "    def get_resid(self,chn,idx): return self.pdb_info().pdb2pose(chn,int(idx))\n",
    "    def get_atom(self,rid,aid):\n",
    "        if type(rid)!=int: rid=rid.seqpos()\n",
    "        if type(aid)==int: return pyrosetta.AtomID(aid,rid)\n",
    "        else:\n",
    "            residue=self.residue(rid)\n",
    "            return pyrosetta.AtomID(residue.atom_index(aid),rid)\n",
    "    def get_conformation_parameter(self,rid,par=\"bond_length\",*args):\n",
    "        conform=self.conformation()\n",
    "        pass_param=[self.get_atom(rid,ai) for ai in args]\n",
    "        return getattr(conform,par)(*pass_param)"
   ]
  },
  {
   "cell_type": "code",
   "execution_count": 4,
   "id": "4fb0f490-ac3b-40d8-9211-0a7a20f184f9",
   "metadata": {},
   "outputs": [],
   "source": [
    "seq=\"caacaacaacaa\"\n",
    "rna_seq = pyrosetta.rosetta.utility.vector1_std_string()\n",
    "rna_seq.append(seq)\n",
    "setup=pyrosetta.rosetta.core.import_pose.RNA_DeNovoSetup()\n",
    "setup.set_sequence_strings(rna_seq)\n",
    "setup.set_minimize_rna(True)\n",
    "setup.set_silent_file(\"/home/venkata/dump.rta\")\n",
    "\n",
    "opts=setup.options()\n",
    "opts.set_nstruct(10)\n",
    "\n",
    "protocol = pyrosetta.rosetta.protocols.rna.denovo.RNA_DeNovoProtocol(opts, setup.rna_params())"
   ]
  },
  {
   "cell_type": "code",
   "execution_count": 8,
   "id": "c67dcc49-8bcc-4844-b56d-3d7dbc462012",
   "metadata": {},
   "outputs": [],
   "source": [
    "startpose=get_template_pose(seq)\n",
    "setup.set_native_pose(startpose)\n",
    "#protocol.apply(startpose)"
   ]
  }
 ],
 "metadata": {
  "kernelspec": {
   "display_name": "Python 3 (ipykernel)",
   "language": "python",
   "name": "python3"
  },
  "language_info": {
   "codemirror_mode": {
    "name": "ipython",
    "version": 3
   },
   "file_extension": ".py",
   "mimetype": "text/x-python",
   "name": "python",
   "nbconvert_exporter": "python",
   "pygments_lexer": "ipython3",
   "version": "3.10.13"
  }
 },
 "nbformat": 4,
 "nbformat_minor": 5
}
