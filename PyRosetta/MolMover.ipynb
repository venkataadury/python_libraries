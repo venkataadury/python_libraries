{
 "cells": [
  {
   "cell_type": "code",
   "execution_count": null,
   "id": "21793976-d913-414b-a007-5c36f0b844d1",
   "metadata": {},
   "outputs": [],
   "source": [
    "import subprocess\n",
    "from pyrosetta import PyMOLMover\n",
    "subprocess.Popen(['pymol','$HOME/python/PyRosetta/PyRosetta4.Release.python310.linux.release-370/PyMOL-RosettaServer.python3.py'])\n",
    "!sleep 2"
   ]
  },
  {
   "cell_type": "code",
   "execution_count": null,
   "id": "38c86e13-a517-439d-a1f1-b24f7b343290",
   "metadata": {},
   "outputs": [],
   "source": [
    "def get_mover(): return PyMOLMover('127.0.0.1',65000)"
   ]
  }
 ],
 "metadata": {
  "kernelspec": {
   "display_name": "Python 3 (ipykernel)",
   "language": "python",
   "name": "python3"
  },
  "language_info": {
   "codemirror_mode": {
    "name": "ipython",
    "version": 3
   },
   "file_extension": ".py",
   "mimetype": "text/x-python",
   "name": "python",
   "nbconvert_exporter": "python",
   "pygments_lexer": "ipython3",
   "version": "3.10.13"
  }
 },
 "nbformat": 4,
 "nbformat_minor": 5
}
