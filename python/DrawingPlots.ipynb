{
 "cells": [
  {
   "cell_type": "code",
   "execution_count": 1,
   "id": "b26e3586-126a-4914-9979-94c2abc35e6c",
   "metadata": {},
   "outputs": [],
   "source": [
    "import numpy as np\n",
    "import matplotlib.pyplot as plt"
   ]
  },
  {
   "cell_type": "code",
   "execution_count": null,
   "id": "1725f1e9-c8a5-4646-afd6-8247e16811ba",
   "metadata": {},
   "outputs": [],
   "source": [
    "def autotick(plt_or_ax,xticks_vals,xticks_locs=None,nticks_shown=8,plot_axis='x',**kwargs):\n",
    "    if xticks_locs is None: xticks_locs=np.arange(len(xticks_vals))\n",
    "    skip_rate=len(xticks_vals)//nticks_shown\n",
    "    if plot_axis in ['x','X',0]:\n",
    "        plt_or_ax.xticks(xticks_locs[::skip_rate],xticks_vals[::skip_rate],**kwargs)\n",
    "    elif plot_axis in ['y','Y',1]:\n",
    "        plt_or_ax.yticks(xticks_locs[::skip_rate],xticks_vals[::skip_rate],**kwargs)\n",
    "    elif plot_axis in ['z','Z',2]:\n",
    "        plt_or_ax.yticks(xticks_locs[::skip_rate],xticks_vals[::skip_rate],**kwargs)\n",
    "    else:\n",
    "        raise ValueError(\"Unknown axis: '\"+str(plot_axis)+\"'\")\n",
    "    return plt_or_ax"
   ]
  }
 ],
 "metadata": {
  "kernelspec": {
   "display_name": "Python 3 (ipykernel)",
   "language": "python",
   "name": "python3"
  },
  "language_info": {
   "codemirror_mode": {
    "name": "ipython",
    "version": 3
   },
   "file_extension": ".py",
   "mimetype": "text/x-python",
   "name": "python",
   "nbconvert_exporter": "python",
   "pygments_lexer": "ipython3",
   "version": "3.12.5"
  }
 },
 "nbformat": 4,
 "nbformat_minor": 5
}
