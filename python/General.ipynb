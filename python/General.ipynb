{
 "cells": [
  {
   "cell_type": "code",
   "execution_count": 1,
   "id": "ddaeb9a2",
   "metadata": {},
   "outputs": [],
   "source": [
    "import numpy as np"
   ]
  },
  {
   "cell_type": "code",
   "execution_count": 2,
   "id": "7a655838",
   "metadata": {},
   "outputs": [],
   "source": [
    "class ObjectWrapper(object):\n",
    "    def __init__(self,obj):\n",
    "        self.obj=obj\n",
    "    \n",
    "    def __str__(self): return self.obj.__str__()\n",
    "    \n",
    "    def assign(self,obj): self.obj=obj\n",
    "    def assignAndGet(self,obj):\n",
    "        self.obj=obj\n",
    "        return self.obj\n",
    "    \n",
    "    def get(self): return self.obj\n",
    "    def __len__(self): return len(self.obj)"
   ]
  },
  {
   "cell_type": "code",
   "execution_count": null,
   "id": "0eee68d8",
   "metadata": {},
   "outputs": [],
   "source": [
    "print(\"Loaded General Python Libary\")"
   ]
  }
 ],
 "metadata": {
  "kernelspec": {
   "display_name": "Python 3 (ipykernel)",
   "language": "python",
   "name": "python3"
  },
  "language_info": {
   "codemirror_mode": {
    "name": "ipython",
    "version": 3
   },
   "file_extension": ".py",
   "mimetype": "text/x-python",
   "name": "python",
   "nbconvert_exporter": "python",
   "pygments_lexer": "ipython3",
   "version": "3.10.4"
  }
 },
 "nbformat": 4,
 "nbformat_minor": 5
}
