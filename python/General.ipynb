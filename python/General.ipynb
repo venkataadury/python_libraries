{
 "cells": [
  {
   "cell_type": "code",
   "execution_count": 1,
   "id": "ddaeb9a2",
   "metadata": {},
   "outputs": [],
   "source": [
    "import numpy as np"
   ]
  },
  {
   "cell_type": "code",
   "execution_count": 2,
   "id": "7a655838",
   "metadata": {},
   "outputs": [],
   "source": [
    "class ObjectWrapper(object):\n",
    "    def __init__(self,obj):\n",
    "        self.obj=obj\n",
    "    \n",
    "    def __str__(self): return self.obj.__str__()\n",
    "    \n",
    "    def assign(self,obj): self.obj=obj\n",
    "    def assignAndGet(self,obj):\n",
    "        self.obj=obj\n",
    "        return self.obj\n",
    "    \n",
    "    def get(self): return self.obj\n",
    "    def __len__(self): return len(self.obj)"
   ]
  },
  {
   "cell_type": "markdown",
   "id": "60deae72-476e-4e44-8e82-22a242ebd63e",
   "metadata": {},
   "source": [
    "## Numpy"
   ]
  },
  {
   "cell_type": "code",
   "execution_count": null,
   "id": "f96ffa4e-9a3e-442f-b7de-d0585da9125b",
   "metadata": {},
   "outputs": [],
   "source": [
    "class GriddedData:\n",
    "    def __init__(self,grid,xvals=None,yvals=None,x_bounded=False,y_bounded=False):\n",
    "        self.grid=grid\n",
    "        if xvals is None: xvals=np.arange(len(self.grid))\n",
    "        if yvals is None: yvals=np.arange(len(self.grid[0]))\n",
    "        self.x_data=xvals\n",
    "        self.y_data=yvals\n",
    "        if x_bounded: self.x_data=(self.x_data[1:]+self.x_data[:-1])/2\n",
    "        if y_bounded: self.y_data=(self.y_data[1:]+self.y_data[:-1])/2\n",
    "        assert(len(self.x_data)==len(self.grid))\n",
    "        assert(len(self.y_data)==len(self.grid[0]))\n",
    "\n",
    "    def get_index_of(self,idx_pair):\n",
    "        x,y=idx_pair\n",
    "        if x<self.x_data[0] or y<self.y_data[0]: raise ValueError(\"Requested (x,y) out of grid\")\n",
    "        if x>=self.x_data[-1] or y>=self.y_data[-1]: raise ValueError(\"Requested (x,y) out of grid\")\n",
    "        xidx=np.where(x<self.x_data)[0][0]\n",
    "        yidx=np.where(y<self.y_data)[0][0]\n",
    "        return xidx,yidx\n",
    "        \n",
    "    def __getitem__(self,idx_pair):\n",
    "        xidx,yidx=self.get_index_of(idx_pair)\n",
    "        return self.grid[xidx,yidx]\n",
    "\n",
    "    def get_interpolate(self,idx_pair):\n",
    "        xidx,yidx=self.get_index_of(idx_pair)\n",
    "        alpha_x=(idx_pair[0]-self.x_data[xidx-1])/(self.x_data[xidx]-self.x_data[xidx-1])\n",
    "        alpha_y=(idx_pair[1]-self.y_data[yidx-1])/(self.y_data[yidx]-self.y_data[yidx-1])\n",
    "        assert (alpha_x<1 and alpha_x>0)\n",
    "        assert (alpha_y<1 and alpha_y>0)\n",
    "        #print(xidx,yidx,alpha_x,alpha_y)\n",
    "        return self.grid[xidx-1,yidx-1]*(1-alpha_x)*(1-alpha_y)+self.grid[xidx-1,yidx]*(1-alpha_x)*alpha_y+self.grid[xidx,yidx-1]*alpha_x*(1-alpha_y)+self.grid[xidx,yidx]*alpha_x*alpha_y\n",
    "    \n",
    "    def draw(self,plt,num_ticks=7,**kwargs):\n",
    "        plt.imshow(self.grid.T,**kwargs)\n",
    "        plt.colorbar()\n",
    "        step=int(len(self.x_data)//num_ticks)+1\n",
    "        plt.xticks(np.arange(len(self.x_data))[::step],np.round(self.x_data,1)[::step])\n",
    "        plt.yticks(np.arange(len(self.y_data))[::step],np.round(self.y_data,1)[::step])"
   ]
  },
  {
   "cell_type": "code",
   "execution_count": null,
   "id": "0eee68d8",
   "metadata": {},
   "outputs": [],
   "source": [
    "print(\"Loaded General Python Libary\")"
   ]
  }
 ],
 "metadata": {
  "kernelspec": {
   "display_name": "Python 3 (ipykernel)",
   "language": "python",
   "name": "python3"
  },
  "language_info": {
   "codemirror_mode": {
    "name": "ipython",
    "version": 3
   },
   "file_extension": ".py",
   "mimetype": "text/x-python",
   "name": "python",
   "nbconvert_exporter": "python",
   "pygments_lexer": "ipython3",
   "version": "3.10.13"
  }
 },
 "nbformat": 4,
 "nbformat_minor": 5
}
